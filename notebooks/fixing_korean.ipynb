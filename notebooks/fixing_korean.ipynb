{
 "cells": [
  {
   "cell_type": "code",
   "execution_count": 10,
   "metadata": {},
   "outputs": [],
   "source": [
    "# 그래프를 노트북 안에 그리기 위해 설정\n",
    "%matplotlib inline\n",
    "\n",
    "# 필요한 패키지와 라이브러리를 가져옴\n",
    "import matplotlib as mpl\n",
    "import matplotlib.pyplot as plt\n",
    "import matplotlib.font_manager as fm\n",
    "\n",
    "# 그래프에서 마이너스 폰트 깨지는 문제에 대한 대처\n",
    "mpl.rcParams['axes.unicode_minus'] = False"
   ]
  },
  {
   "cell_type": "code",
   "execution_count": 11,
   "metadata": {},
   "outputs": [
    {
     "data": {
      "text/plain": [
       "array([ 99,  96, 109, 130, 199, 124, 189, 215, 292, 373, 387, 353, 367,\n",
       "       401, 462, 453, 531, 550, 606, 636, 609, 646, 641, 728, 686, 781,\n",
       "       725, 629, 695, 777, 787, 749, 732, 755, 772, 713, 640, 617, 575,\n",
       "       618, 629, 641, 590, 549, 634, 694, 683, 721, 715, 738])"
      ]
     },
     "execution_count": 11,
     "metadata": {},
     "output_type": "execute_result"
    }
   ],
   "source": [
    "import numpy as np\n",
    "\n",
    "data = np.random.randint(-100, 100, 50).cumsum()\n",
    "data"
   ]
  },
  {
   "cell_type": "code",
   "execution_count": 12,
   "metadata": {},
   "outputs": [
    {
     "data": {
      "text/plain": [
       "Text(0.5, 0, '시간(분)')"
      ]
     },
     "execution_count": 12,
     "metadata": {},
     "output_type": "execute_result"
    },
    {
     "name": "stderr",
     "output_type": "stream",
     "text": [
      "/home/nakyil/anaconda3/envs/DLassn/lib/python3.6/site-packages/matplotlib/backends/backend_agg.py:214: RuntimeWarning: Glyph 49884 missing from current font.\n",
      "  font.set_text(s, 0.0, flags=flags)\n",
      "/home/nakyil/anaconda3/envs/DLassn/lib/python3.6/site-packages/matplotlib/backends/backend_agg.py:214: RuntimeWarning: Glyph 44036 missing from current font.\n",
      "  font.set_text(s, 0.0, flags=flags)\n",
      "/home/nakyil/anaconda3/envs/DLassn/lib/python3.6/site-packages/matplotlib/backends/backend_agg.py:214: RuntimeWarning: Glyph 48324 missing from current font.\n",
      "  font.set_text(s, 0.0, flags=flags)\n",
      "/home/nakyil/anaconda3/envs/DLassn/lib/python3.6/site-packages/matplotlib/backends/backend_agg.py:214: RuntimeWarning: Glyph 44032 missing from current font.\n",
      "  font.set_text(s, 0.0, flags=flags)\n",
      "/home/nakyil/anaconda3/envs/DLassn/lib/python3.6/site-packages/matplotlib/backends/backend_agg.py:214: RuntimeWarning: Glyph 44201 missing from current font.\n",
      "  font.set_text(s, 0.0, flags=flags)\n",
      "/home/nakyil/anaconda3/envs/DLassn/lib/python3.6/site-packages/matplotlib/backends/backend_agg.py:214: RuntimeWarning: Glyph 52628 missing from current font.\n",
      "  font.set_text(s, 0.0, flags=flags)\n",
      "/home/nakyil/anaconda3/envs/DLassn/lib/python3.6/site-packages/matplotlib/backends/backend_agg.py:214: RuntimeWarning: Glyph 51060 missing from current font.\n",
      "  font.set_text(s, 0.0, flags=flags)\n",
      "/home/nakyil/anaconda3/envs/DLassn/lib/python3.6/site-packages/matplotlib/backends/backend_agg.py:214: RuntimeWarning: Glyph 48516 missing from current font.\n",
      "  font.set_text(s, 0.0, flags=flags)\n",
      "/home/nakyil/anaconda3/envs/DLassn/lib/python3.6/site-packages/matplotlib/backends/backend_agg.py:214: RuntimeWarning: Glyph 51452 missing from current font.\n",
      "  font.set_text(s, 0.0, flags=flags)\n",
      "/home/nakyil/anaconda3/envs/DLassn/lib/python3.6/site-packages/matplotlib/backends/backend_agg.py:214: RuntimeWarning: Glyph 49885 missing from current font.\n",
      "  font.set_text(s, 0.0, flags=flags)\n",
      "/home/nakyil/anaconda3/envs/DLassn/lib/python3.6/site-packages/matplotlib/backends/backend_agg.py:183: RuntimeWarning: Glyph 49884 missing from current font.\n",
      "  font.set_text(s, 0, flags=flags)\n",
      "/home/nakyil/anaconda3/envs/DLassn/lib/python3.6/site-packages/matplotlib/backends/backend_agg.py:183: RuntimeWarning: Glyph 44036 missing from current font.\n",
      "  font.set_text(s, 0, flags=flags)\n",
      "/home/nakyil/anaconda3/envs/DLassn/lib/python3.6/site-packages/matplotlib/backends/backend_agg.py:183: RuntimeWarning: Glyph 48516 missing from current font.\n",
      "  font.set_text(s, 0, flags=flags)\n",
      "/home/nakyil/anaconda3/envs/DLassn/lib/python3.6/site-packages/matplotlib/backends/backend_agg.py:183: RuntimeWarning: Glyph 51452 missing from current font.\n",
      "  font.set_text(s, 0, flags=flags)\n",
      "/home/nakyil/anaconda3/envs/DLassn/lib/python3.6/site-packages/matplotlib/backends/backend_agg.py:183: RuntimeWarning: Glyph 49885 missing from current font.\n",
      "  font.set_text(s, 0, flags=flags)\n",
      "/home/nakyil/anaconda3/envs/DLassn/lib/python3.6/site-packages/matplotlib/backends/backend_agg.py:183: RuntimeWarning: Glyph 44032 missing from current font.\n",
      "  font.set_text(s, 0, flags=flags)\n",
      "/home/nakyil/anaconda3/envs/DLassn/lib/python3.6/site-packages/matplotlib/backends/backend_agg.py:183: RuntimeWarning: Glyph 44201 missing from current font.\n",
      "  font.set_text(s, 0, flags=flags)\n",
      "/home/nakyil/anaconda3/envs/DLassn/lib/python3.6/site-packages/matplotlib/backends/backend_agg.py:183: RuntimeWarning: Glyph 48324 missing from current font.\n",
      "  font.set_text(s, 0, flags=flags)\n",
      "/home/nakyil/anaconda3/envs/DLassn/lib/python3.6/site-packages/matplotlib/backends/backend_agg.py:183: RuntimeWarning: Glyph 52628 missing from current font.\n",
      "  font.set_text(s, 0, flags=flags)\n",
      "/home/nakyil/anaconda3/envs/DLassn/lib/python3.6/site-packages/matplotlib/backends/backend_agg.py:183: RuntimeWarning: Glyph 51060 missing from current font.\n",
      "  font.set_text(s, 0, flags=flags)\n"
     ]
    },
    {
     "data": {
      "image/png": "[encoded data removed]",
      "text/plain": [
       "<Figure size 432x288 with 1 Axes>"
      ]
     },
     "metadata": {
      "needs_background": "light"
     },
     "output_type": "display_data"
    }
   ],
   "source": [
    "plt.plot(range(50), data, 'r')\n",
    "mpl.rcParams['axes.unicode_minus'] = False\n",
    "plt.title('시간별 가격 추이')\n",
    "plt.ylabel('주식 가격')\n",
    "plt.xlabel('시간(분)')\n"
   ]
  },
  {
   "cell_type": "code",
   "execution_count": 13,
   "metadata": {},
   "outputs": [
    {
     "name": "stdout",
     "output_type": "stream",
     "text": [
      "버전:  3.2.1\n",
      "설치 위치:  /home/nakyil/anaconda3/envs/DLassn/lib/python3.6/site-packages/matplotlib/__init__.py\n",
      "설정 위치:  /home/nakyil/.config/matplotlib\n",
      "캐시 위치:  /home/nakyil/.cache/matplotlib\n"
     ]
    }
   ],
   "source": [
    "print ('버전: ', mpl.__version__)\n",
    "print ('설치 위치: ', mpl.__file__)\n",
    "print ('설정 위치: ', mpl.get_configdir())\n",
    "print ('캐시 위치: ', mpl.get_cachedir())"
   ]
  },
  {
   "cell_type": "code",
   "execution_count": 14,
   "metadata": {},
   "outputs": [
    {
     "name": "stdout",
     "output_type": "stream",
     "text": [
      "설정파일 위치:  /home/nakyil/anaconda3/envs/DLassn/lib/python3.6/site-packages/matplotlib/mpl-data/matplotlibrc\n"
     ]
    }
   ],
   "source": [
    "print ('설정파일 위치: ', mpl.matplotlib_fname())\n"
   ]
  },
  {
   "cell_type": "code",
   "execution_count": 15,
   "metadata": {},
   "outputs": [
    {
     "name": "stdout",
     "output_type": "stream",
     "text": [
      "237\n"
     ]
    }
   ],
   "source": [
    "font_list = fm.findSystemFonts(fontpaths=None, fontext='ttf')\n",
    "\n",
    "# ttf 폰트 전체갯수\n",
    "print(len(font_list)) \n"
   ]
  },
  {
   "cell_type": "code",
   "execution_count": 16,
   "metadata": {},
   "outputs": [
    {
     "name": "stdout",
     "output_type": "stream",
     "text": [
      "0\n"
     ]
    },
    {
     "name": "stderr",
     "output_type": "stream",
     "text": [
      "/home/nakyil/anaconda3/envs/DLassn/lib/python3.6/site-packages/ipykernel_launcher.py:2: MatplotlibDeprecationWarning: \n",
      "The OSXInstalledFonts function was deprecated in Matplotlib 3.1 and will be removed in 3.3.\n",
      "  \n"
     ]
    }
   ],
   "source": [
    "# OSX 의 설치 된 폰트를 가져오는 함수\n",
    "font_list_mac = fm.OSXInstalledFonts()\n",
    "print(len(font_list_mac))\n"
   ]
  },
  {
   "cell_type": "code",
   "execution_count": 17,
   "metadata": {},
   "outputs": [
    {
     "name": "stdout",
     "output_type": "stream",
     "text": [
      "237\n"
     ]
    },
    {
     "data": {
      "text/plain": [
       "[('STIXGeneral',\n",
       "  '/home/nakyil/anaconda3/envs/DLassn/lib/python3.6/site-packages/matplotlib/mpl-data/fonts/ttf/STIXGeneralBol.ttf'),\n",
       " ('cmb10',\n",
       "  '/home/nakyil/anaconda3/envs/DLassn/lib/python3.6/site-packages/matplotlib/mpl-data/fonts/ttf/cmb10.ttf'),\n",
       " ('DejaVu Sans',\n",
       "  '/home/nakyil/anaconda3/envs/DLassn/lib/python3.6/site-packages/matplotlib/mpl-data/fonts/ttf/DejaVuSans-Bold.ttf'),\n",
       " ('cmss10',\n",
       "  '/home/nakyil/anaconda3/envs/DLassn/lib/python3.6/site-packages/matplotlib/mpl-data/fonts/ttf/cmss10.ttf'),\n",
       " ('cmex10',\n",
       "  '/home/nakyil/anaconda3/envs/DLassn/lib/python3.6/site-packages/matplotlib/mpl-data/fonts/ttf/cmex10.ttf'),\n",
       " ('STIXSizeFiveSym',\n",
       "  '/home/nakyil/anaconda3/envs/DLassn/lib/python3.6/site-packages/matplotlib/mpl-data/fonts/ttf/STIXSizFiveSymReg.ttf'),\n",
       " ('STIXSizeFourSym',\n",
       "  '/home/nakyil/anaconda3/envs/DLassn/lib/python3.6/site-packages/matplotlib/mpl-data/fonts/ttf/STIXSizFourSymReg.ttf'),\n",
       " ('Nanum GgocNaeEum',\n",
       "  '/home/nakyil/anaconda3/envs/DLassn/lib/python3.6/site-packages/matplotlib/mpl-data/fonts/ttf/NanumFlower.ttf'),\n",
       " ('DejaVu Sans Mono',\n",
       "  '/home/nakyil/anaconda3/envs/DLassn/lib/python3.6/site-packages/matplotlib/mpl-data/fonts/ttf/DejaVuSansMono-Bold.ttf'),\n",
       " ('STIXNonUnicode',\n",
       "  '/home/nakyil/anaconda3/envs/DLassn/lib/python3.6/site-packages/matplotlib/mpl-data/fonts/ttf/STIXNonUniBol.ttf')]"
      ]
     },
     "execution_count": 17,
     "metadata": {},
     "output_type": "execute_result"
    }
   ],
   "source": [
    "f = [(f.name, f.fname) for f in fm.fontManager.ttflist]\n",
    "print(len(font_list))\n",
    "# 10개의 폰트명 만 출력\n",
    "f[:10]"
   ]
  },
  {
   "cell_type": "code",
   "execution_count": 18,
   "metadata": {},
   "outputs": [
    {
     "data": {
      "text/plain": [
       "[('Nanum GgocNaeEum',\n",
       "  '/home/nakyil/anaconda3/envs/DLassn/lib/python3.6/site-packages/matplotlib/mpl-data/fonts/ttf/NanumFlower.ttf'),\n",
       " ('NanumBarunGothic', '/home/nakyil/.local/share/fonts/NanumBarunGothic.ttf'),\n",
       " ('Nanum GgocNaeEum', '/home/nakyil/.local/share/fonts/NanumFlower.ttf'),\n",
       " ('Nanum GgocNaeEum', '/usr/share/fonts/truetype/nanumflower/NanumFlower.ttf')]"
      ]
     },
     "execution_count": 18,
     "metadata": {},
     "output_type": "execute_result"
    }
   ],
   "source": [
    "[(f.name, f.fname) for f in fm.fontManager.ttflist if 'Nanum' in f.name]\n"
   ]
  },
  {
   "cell_type": "code",
   "execution_count": 19,
   "metadata": {},
   "outputs": [
    {
     "data": {
      "text/plain": [
       "['/usr/share/fonts/truetype/ttf-khmeros-core/KhmerOS.ttf',\n",
       " '/usr/share/fonts/truetype/droid/DroidSansFallbackFull.ttf',\n",
       " '/usr/share/fonts/truetype/freefont/FreeSerifItalic.ttf',\n",
       " '/usr/share/fonts/truetype/malayalam/Suruma.ttf',\n",
       " '/usr/share/fonts/truetype/freefont/FreeMonoBold.ttf',\n",
       " '/usr/share/fonts/truetype/liberation2/LiberationSans-BoldItalic.ttf',\n",
       " '/usr/share/fonts/truetype/fonts-gujr-extra/Rekha.ttf',\n",
       " '/usr/share/fonts/truetype/tlwg/TlwgTypewriter-BoldOblique.ttf',\n",
       " '/usr/share/fonts/truetype/ubuntu/Ubuntu-C.ttf',\n",
       " '/usr/share/fonts/truetype/liberation2/LiberationSerif-Bold.ttf',\n",
       " '/usr/share/fonts/truetype/dejavu/DejaVuSerif.ttf',\n",
       " '/usr/share/fonts/truetype/liberation/LiberationSansNarrow-BoldItalic.ttf',\n",
       " '/usr/share/fonts/truetype/Sarai/Sarai.ttf',\n",
       " '/usr/share/fonts/truetype/kacst/KacstTitle.ttf',\n",
       " '/usr/share/fonts/truetype/samyak/Samyak-Devanagari.ttf',\n",
       " '/usr/share/fonts/truetype/dejavu/DejaVuSerif-Bold.ttf',\n",
       " '/usr/share/fonts/truetype/Navilu/Navilu.ttf',\n",
       " '/usr/share/fonts/truetype/tlwg/TlwgMono-Oblique.ttf',\n",
       " '/usr/share/fonts/truetype/dejavu/DejaVuSans-Bold.ttf',\n",
       " '/usr/share/fonts/truetype/malayalam/Dyuthi.ttf',\n",
       " '/usr/share/fonts/truetype/kacst/KacstTitleL.ttf',\n",
       " '/usr/share/fonts/truetype/fonts-deva-extra/samanata.ttf',\n",
       " '/usr/share/fonts/truetype/tlwg/TlwgTypist.ttf',\n",
       " '/usr/share/fonts/truetype/tlwg/Loma-Oblique.ttf',\n",
       " '/usr/share/fonts/truetype/tlwg/Norasi-BoldItalic.ttf',\n",
       " '/usr/share/fonts/truetype/tlwg/Waree.ttf',\n",
       " '/usr/share/fonts/truetype/lohit-malayalam/Lohit-Malayalam.ttf',\n",
       " '/usr/share/fonts/truetype/tlwg/TlwgTypo.ttf',\n",
       " '/usr/share/fonts/truetype/tlwg/Garuda-Bold.ttf',\n",
       " '/usr/share/fonts/truetype/tlwg/Laksaman-BoldItalic.ttf',\n",
       " '/usr/share/fonts/truetype/tlwg/TlwgTypist-BoldOblique.ttf',\n",
       " '/usr/share/fonts/truetype/dejavu/DejaVuSansMono-BoldOblique.ttf',\n",
       " '/usr/share/fonts/truetype/tlwg/Kinnari-Italic.ttf',\n",
       " '/usr/share/fonts/truetype/lohit-assamese/Lohit-Assamese.ttf',\n",
       " '/usr/share/fonts/truetype/Gubbi/Gubbi.ttf',\n",
       " '/usr/share/fonts/opentype/noto/NotoSerifCJK-ExtraLight.ttc',\n",
       " '/usr/share/fonts/truetype/sinhala/lklug.ttf',\n",
       " '/usr/share/fonts/truetype/tlwg/Norasi.ttf',\n",
       " '/usr/share/fonts/truetype/lohit-punjabi/Lohit-Gurmukhi.ttf',\n",
       " '/usr/share/fonts/truetype/liberation2/LiberationSerif-BoldItalic.ttf',\n",
       " '/usr/share/fonts/truetype/kacst/KacstScreen.ttf',\n",
       " '/usr/share/fonts/truetype/dejavu/DejaVuSans-BoldOblique.ttf',\n",
       " '/usr/share/fonts/truetype/liberation/LiberationSerif-BoldItalic.ttf',\n",
       " '/usr/share/fonts/truetype/liberation/LiberationMono-Regular.ttf',\n",
       " '/usr/share/fonts/truetype/dejavu/DejaVuSansCondensed-Bold.ttf',\n",
       " '/usr/share/fonts/truetype/pagul/Pagul.ttf',\n",
       " '/usr/share/fonts/truetype/tlwg/Kinnari-BoldItalic.ttf',\n",
       " '/usr/share/fonts/truetype/tlwg/Norasi-Bold.ttf',\n",
       " '/usr/share/fonts/truetype/fonts-gujr-extra/padmaa.ttf',\n",
       " '/usr/share/fonts/truetype/ubuntu/Ubuntu-BI.ttf',\n",
       " '/usr/share/fonts/truetype/freefont/FreeSansBold.ttf',\n",
       " '/usr/share/fonts/truetype/kacst-one/KacstOne.ttf',\n",
       " '/usr/share/fonts/truetype/fonts-beng-extra/MuktiNarrow.ttf',\n",
       " '/usr/share/fonts/truetype/liberation/LiberationMono-Bold.ttf',\n",
       " '/usr/share/fonts/truetype/tlwg/Kinnari-Oblique.ttf',\n",
       " '/usr/share/fonts/truetype/tlwg/Waree-Oblique.ttf',\n",
       " '/usr/share/fonts/truetype/freefont/FreeSansOblique.ttf',\n",
       " '/usr/share/fonts/truetype/freefont/FreeSerifBold.ttf',\n",
       " '/usr/share/fonts/truetype/kacst/KacstPen.ttf',\n",
       " '/usr/share/fonts/truetype/tlwg/Laksaman-Bold.ttf',\n",
       " '/usr/share/fonts/truetype/fonts-orya-extra/utkal.ttf',\n",
       " '/usr/share/fonts/truetype/fonts-deva-extra/chandas1-2.ttf',\n",
       " '/usr/share/fonts/truetype/fonts-telu-extra/vemana2000.ttf',\n",
       " '/usr/share/fonts/truetype/dejavu/DejaVuSerifCondensed-Italic.ttf',\n",
       " '/usr/share/fonts/truetype/malayalam/AnjaliOldLipi.ttf',\n",
       " '/usr/share/fonts/truetype/tlwg/Sawasdee-BoldOblique.ttf',\n",
       " '/usr/share/fonts/truetype/fonts-beng-extra/mitra.ttf',\n",
       " '/usr/share/fonts/opentype/noto/NotoSansCJK-Bold.ttc',\n",
       " '/usr/share/fonts/truetype/dejavu/DejaVuSerif-BoldItalic.ttf',\n",
       " '/usr/share/fonts/truetype/ubuntu/UbuntuMono-B.ttf',\n",
       " '/usr/share/fonts/truetype/tlwg/Waree-BoldOblique.ttf',\n",
       " '/usr/share/fonts/truetype/dejavu/DejaVuMathTeXGyre.ttf',\n",
       " '/usr/share/fonts/truetype/tlwg/Garuda-BoldOblique.ttf',\n",
       " '/usr/share/fonts/truetype/liberation2/LiberationMono-Bold.ttf',\n",
       " '/usr/share/fonts/opentype/malayalam/Manjari-Thin.otf',\n",
       " '/usr/share/fonts/truetype/dejavu/DejaVuSansCondensed-BoldOblique.ttf',\n",
       " '/usr/share/fonts/truetype/lohit-devanagari/Lohit-Devanagari.ttf',\n",
       " '/usr/share/fonts/truetype/tlwg/TlwgMono-BoldOblique.ttf',\n",
       " '/usr/share/fonts/truetype/tlwg/TlwgTypo-Bold.ttf',\n",
       " '/usr/share/fonts/opentype/noto/NotoSansCJK-Thin.ttc',\n",
       " '/usr/share/fonts/truetype/openoffice/opens___.ttf',\n",
       " '/usr/share/fonts/truetype/freefont/FreeSans.ttf',\n",
       " '/usr/share/fonts/truetype/freefont/FreeSansBoldOblique.ttf',\n",
       " '/usr/share/fonts/truetype/noto/NotoColorEmoji.ttf',\n",
       " '/usr/share/fonts/truetype/ubuntu/UbuntuMono-R.ttf',\n",
       " '/usr/share/fonts/truetype/liberation/LiberationSans-Italic.ttf',\n",
       " '/usr/share/fonts/truetype/tlwg/TlwgTypo-Oblique.ttf',\n",
       " '/usr/share/fonts/truetype/fonts-beng-extra/JamrulNormal.ttf',\n",
       " '/usr/share/fonts/truetype/kacst/KacstBook.ttf',\n",
       " '/usr/share/fonts/truetype/lohit-tamil-classical/Lohit-Tamil-Classical.ttf',\n",
       " '/usr/share/fonts/truetype/freefont/FreeMonoBoldOblique.ttf',\n",
       " '/usr/share/fonts/truetype/times-new-roman/times-new-roman.ttf',\n",
       " '/usr/share/fonts/truetype/liberation/LiberationSerif-Italic.ttf',\n",
       " '/usr/share/fonts/truetype/malayalam/Keraleeyam.ttf',\n",
       " '/usr/share/fonts/truetype/padauk/PadaukBook-Regular.ttf',\n",
       " '/usr/share/fonts/truetype/fonts-kalapi/Kalapi.ttf',\n",
       " '/usr/share/fonts/truetype/liberation/LiberationSans-BoldItalic.ttf',\n",
       " '/usr/share/fonts/truetype/padauk/PadaukBook-Bold.ttf',\n",
       " '/usr/share/fonts/truetype/tlwg/Purisa.ttf',\n",
       " '/usr/share/fonts/truetype/lohit-telugu/Lohit-Telugu.ttf',\n",
       " '/usr/share/fonts/truetype/liberation2/LiberationSerif-Italic.ttf',\n",
       " '/usr/share/fonts/truetype/liberation/LiberationSerif-Regular.ttf',\n",
       " '/usr/share/fonts/truetype/liberation2/LiberationSans-Bold.ttf',\n",
       " '/usr/share/fonts/truetype/freefont/FreeSerif.ttf',\n",
       " '/usr/share/fonts/truetype/lohit-kannada/Lohit-Kannada.ttf',\n",
       " '/usr/share/fonts/truetype/tlwg/Norasi-Oblique.ttf',\n",
       " '/usr/share/fonts/truetype/tlwg/Sawasdee.ttf',\n",
       " '/usr/share/fonts/truetype/liberation2/LiberationSans-Regular.ttf',\n",
       " '/usr/share/fonts/truetype/ubuntu/Ubuntu-LI.ttf',\n",
       " '/usr/share/fonts/truetype/tlwg/Umpush-Oblique.ttf',\n",
       " '/usr/share/fonts/opentype/noto/NotoSerifCJK-Medium.ttc',\n",
       " '/usr/share/fonts/truetype/ubuntu/Ubuntu-L.ttf',\n",
       " '/usr/share/fonts/opentype/noto/NotoSansCJK-Black.ttc',\n",
       " '/usr/share/fonts/truetype/tlwg/TlwgTypist-Bold.ttf',\n",
       " '/usr/share/fonts/truetype/tlwg/Umpush-Light.ttf',\n",
       " '/usr/share/fonts/truetype/tlwg/TlwgMono.ttf',\n",
       " '/usr/share/fonts/truetype/kacst/KacstNaskh.ttf',\n",
       " '/usr/share/fonts/opentype/noto/NotoSerifCJK-Black.ttc',\n",
       " '/usr/share/fonts/truetype/tlwg/TlwgTypist-Oblique.ttf',\n",
       " '/usr/share/fonts/opentype/noto/NotoSerifCJK-Light.ttc',\n",
       " '/usr/share/fonts/truetype/ubuntu/Ubuntu-B.ttf',\n",
       " '/usr/share/fonts/truetype/lao/Phetsarath_OT.ttf',\n",
       " '/usr/share/fonts/truetype/dejavu/DejaVuSansMono.ttf',\n",
       " '/usr/share/fonts/truetype/kacst/KacstDigital.ttf',\n",
       " '/usr/share/fonts/truetype/tlwg/Umpush-LightOblique.ttf',\n",
       " '/usr/share/fonts/truetype/liberation2/LiberationSans-Italic.ttf',\n",
       " '/usr/share/fonts/truetype/dejavu/DejaVuSansCondensed.ttf',\n",
       " '/usr/share/fonts/truetype/lohit-bengali/Lohit-Bengali.ttf',\n",
       " '/usr/share/fonts/opentype/noto/NotoSansCJK-Light.ttc',\n",
       " '/usr/share/fonts/truetype/tlwg/TlwgTypewriter-Bold.ttf',\n",
       " '/usr/share/fonts/truetype/Sahadeva/sahadeva.ttf',\n",
       " '/usr/share/fonts/truetype/tlwg/TlwgTypewriter.ttf',\n",
       " '/usr/share/fonts/opentype/noto/NotoSerifCJK-SemiBold.ttc',\n",
       " '/usr/share/fonts/truetype/liberation2/LiberationMono-BoldItalic.ttf',\n",
       " '/usr/share/fonts/truetype/ubuntu/UbuntuMono-BI.ttf',\n",
       " '/usr/share/fonts/truetype/malayalam/RaghuMalayalamSans-Regular.ttf',\n",
       " '/usr/share/fonts/truetype/freefont/FreeMonoOblique.ttf',\n",
       " '/home/nakyil/.local/share/fonts/NanumBarunGothic.ttf',\n",
       " '/usr/share/fonts/truetype/padauk/Padauk-Regular.ttf',\n",
       " '/usr/share/fonts/truetype/dejavu/DejaVuSansCondensed-Oblique.ttf',\n",
       " '/usr/share/fonts/truetype/malayalam/Uroob.ttf',\n",
       " '/usr/share/fonts/truetype/lohit-gujarati/Lohit-Gujarati.ttf',\n",
       " '/usr/share/fonts/truetype/tlwg/Kinnari.ttf',\n",
       " '/usr/share/fonts/truetype/dejavu/DejaVuSerif-Italic.ttf',\n",
       " '/usr/share/fonts/truetype/fonts-gujr-extra/padmaa-Medium-0.5.ttf',\n",
       " '/usr/share/fonts/truetype/tlwg/Loma.ttf',\n",
       " '/usr/share/fonts/truetype/tlwg/Kinnari-Bold.ttf',\n",
       " '/usr/share/fonts/opentype/malayalam/Manjari-Bold.otf',\n",
       " '/usr/share/fonts/truetype/fonts-guru-extra/Saab.ttf',\n",
       " '/usr/share/fonts/truetype/dejavu/DejaVuSansMono-Oblique.ttf',\n",
       " '/usr/share/fonts/truetype/tlwg/Purisa-BoldOblique.ttf',\n",
       " '/usr/share/fonts/truetype/kacst/KacstOffice.ttf',\n",
       " '/usr/share/fonts/truetype/kacst/mry_KacstQurn.ttf',\n",
       " '/usr/share/fonts/truetype/liberation/LiberationMono-BoldItalic.ttf',\n",
       " '/usr/share/fonts/truetype/tlwg/Loma-BoldOblique.ttf',\n",
       " '/usr/share/fonts/truetype/padauk/Padauk-Bold.ttf',\n",
       " '/usr/share/fonts/truetype/tlwg/Purisa-Bold.ttf',\n",
       " '/usr/share/fonts/truetype/fonts-gujr-extra/padmaa-Bold.1.1.ttf',\n",
       " '/usr/share/fonts/truetype/dejavu/DejaVuSerifCondensed-BoldItalic.ttf',\n",
       " '/usr/share/fonts/truetype/lohit-oriya/Lohit-Odia.ttf',\n",
       " '/usr/share/fonts/opentype/noto/NotoSerifCJK-Bold.ttc',\n",
       " '/usr/share/fonts/truetype/tlwg/Waree-Bold.ttf',\n",
       " '/usr/share/fonts/truetype/tlwg/Norasi-Italic.ttf',\n",
       " '/usr/share/fonts/truetype/ubuntu/Ubuntu-MI.ttf',\n",
       " '/usr/share/fonts/truetype/fonts-beng-extra/LikhanNormal.ttf',\n",
       " '/usr/share/fonts/truetype/liberation/LiberationMono-Italic.ttf',\n",
       " '/usr/share/fonts/truetype/Gargi/Gargi.ttf',\n",
       " '/usr/share/fonts/truetype/ubuntu/Ubuntu-R.ttf',\n",
       " '/usr/share/fonts/truetype/fonts-gujr-extra/aakar-medium.ttf',\n",
       " '/usr/share/fonts/truetype/dejavu/DejaVuSansMono-Bold.ttf',\n",
       " '/usr/share/fonts/truetype/tlwg/Umpush-Bold.ttf',\n",
       " '/usr/share/fonts/truetype/tlwg/TlwgTypewriter-Oblique.ttf',\n",
       " '/home/nakyil/.local/share/fonts/NanumFlower.ttf',\n",
       " '/usr/share/fonts/truetype/kacst/KacstArt.ttf',\n",
       " '/usr/share/fonts/truetype/liberation/LiberationSans-Regular.ttf',\n",
       " '/usr/share/fonts/truetype/liberation2/LiberationMono-Regular.ttf',\n",
       " '/usr/share/fonts/truetype/tlwg/Laksaman.ttf',\n",
       " '/usr/share/fonts/truetype/liberation/LiberationSansNarrow-Regular.ttf',\n",
       " '/usr/share/fonts/truetype/tlwg/Purisa-Oblique.ttf',\n",
       " '/usr/share/fonts/truetype/tlwg/Sawasdee-Bold.ttf',\n",
       " '/usr/share/fonts/truetype/tlwg/Garuda.ttf',\n",
       " '/usr/share/fonts/truetype/tlwg/Sawasdee-Oblique.ttf',\n",
       " '/usr/share/fonts/opentype/malayalam/Manjari-Regular.otf',\n",
       " '/usr/share/fonts/truetype/tlwg/Norasi-BoldOblique.ttf',\n",
       " '/usr/share/fonts/truetype/fonts-telu-extra/Pothana2000.ttf',\n",
       " '/usr/share/fonts/truetype/tlwg/Umpush.ttf',\n",
       " '/usr/share/fonts/truetype/liberation/LiberationSansNarrow-Italic.ttf',\n",
       " '/usr/share/fonts/truetype/liberation/LiberationSans-Bold.ttf',\n",
       " '/usr/share/fonts/opentype/noto/NotoSerifCJK-Regular.ttc',\n",
       " '/usr/share/fonts/truetype/fonts-deva-extra/kalimati.ttf',\n",
       " '/usr/share/fonts/truetype/tibetan-machine/TibetanMachineUni.ttf',\n",
       " '/usr/share/fonts/truetype/dejavu/DejaVuSans-Oblique.ttf',\n",
       " '/usr/share/fonts/truetype/noto/NotoMono-Regular.ttf',\n",
       " '/usr/share/fonts/truetype/abyssinica/AbyssinicaSIL-R.ttf',\n",
       " '/usr/share/fonts/truetype/tlwg/Garuda-Oblique.ttf',\n",
       " '/usr/share/fonts/truetype/dejavu/DejaVuSans-ExtraLight.ttf',\n",
       " '/usr/share/fonts/truetype/malayalam/Rachana-Regular.ttf',\n",
       " '/usr/share/fonts/truetype/tlwg/Laksaman-Italic.ttf',\n",
       " '/usr/share/fonts/truetype/samyak-fonts/Samyak-Tamil.ttf',\n",
       " '/usr/share/fonts/truetype/freefont/FreeSerifBoldItalic.ttf',\n",
       " '/usr/share/fonts/opentype/noto/NotoSansCJK-DemiLight.ttc',\n",
       " '/usr/share/fonts/truetype/malayalam/Meera.ttf',\n",
       " '/usr/share/fonts/truetype/ubuntu/Ubuntu-RI.ttf',\n",
       " '/usr/share/fonts/truetype/freefont/FreeMono.ttf',\n",
       " '/usr/share/fonts/truetype/tlwg/TlwgTypo-BoldOblique.ttf',\n",
       " '/usr/share/fonts/truetype/fonts-beng-extra/ani.ttf',\n",
       " '/usr/share/fonts/truetype/kacst/KacstPoster.ttf',\n",
       " '/usr/share/fonts/truetype/kacst/KacstDecorative.ttf',\n",
       " '/usr/share/fonts/opentype/noto/NotoSansCJK-Medium.ttc',\n",
       " '/usr/share/fonts/truetype/fonts-beng-extra/MuktiNarrowBold.ttf',\n",
       " '/usr/share/fonts/truetype/nanumflower/NanumFlower.ttf',\n",
       " '/usr/share/fonts/truetype/kacst/KacstFarsi.ttf',\n",
       " '/usr/share/fonts/truetype/samyak-fonts/Samyak-Gujarati.ttf',\n",
       " '/usr/share/fonts/truetype/samyak-fonts/Samyak-Malayalam.ttf',\n",
       " '/usr/share/fonts/truetype/malayalam/Chilanka-Regular.ttf',\n",
       " '/usr/share/fonts/truetype/tlwg/Umpush-BoldOblique.ttf',\n",
       " '/usr/share/fonts/opentype/noto/NotoSansCJK-Regular.ttc',\n",
       " '/usr/share/fonts/truetype/kacst-one/KacstOne-Bold.ttf',\n",
       " '/usr/share/fonts/truetype/liberation2/LiberationMono-Italic.ttf',\n",
       " '/usr/share/fonts/truetype/dejavu/DejaVuSans.ttf',\n",
       " '/usr/share/fonts/truetype/ubuntu/UbuntuMono-RI.ttf',\n",
       " '/usr/share/fonts/truetype/malayalam/Karumbi.ttf',\n",
       " '/usr/share/fonts/truetype/ttf-khmeros-core/KhmerOSsys.ttf',\n",
       " '/usr/share/fonts/truetype/dejavu/DejaVuSerifCondensed.ttf',\n",
       " '/usr/share/fonts/truetype/liberation/LiberationSansNarrow-Bold.ttf',\n",
       " '/usr/share/fonts/truetype/liberation/LiberationSerif-Bold.ttf',\n",
       " '/usr/share/fonts/truetype/tlwg/Kinnari-BoldOblique.ttf',\n",
       " '/usr/share/fonts/truetype/malayalam/Rachana-Bold.ttf',\n",
       " '/usr/share/fonts/truetype/Nakula/nakula.ttf',\n",
       " '/usr/share/fonts/truetype/tlwg/TlwgMono-Bold.ttf',\n",
       " '/usr/share/fonts/truetype/dejavu/DejaVuSerifCondensed-Bold.ttf',\n",
       " '/usr/share/fonts/truetype/lohit-tamil/Lohit-Tamil.ttf',\n",
       " '/usr/share/fonts/truetype/ubuntu/Ubuntu-M.ttf',\n",
       " '/usr/share/fonts/truetype/tlwg/Loma-Bold.ttf',\n",
       " '/usr/share/fonts/truetype/kacst/KacstQurn.ttf',\n",
       " '/usr/share/fonts/truetype/kacst/KacstLetter.ttf',\n",
       " '/usr/share/fonts/truetype/liberation2/LiberationSerif-Regular.ttf']"
      ]
     },
     "execution_count": 19,
     "metadata": {},
     "output_type": "execute_result"
    }
   ],
   "source": [
    "import matplotlib.font_manager\n",
    "matplotlib.font_manager.findSystemFonts(fontpaths=None, fontext='ttf')"
   ]
  },
  {
   "cell_type": "code",
   "execution_count": null,
   "metadata": {},
   "outputs": [],
   "source": []
  }
 ],
 "metadata": {
  "kernelspec": {
   "display_name": "DLassn",
   "language": "python",
   "name": "dlassn"
  },
  "language_info": {
   "codemirror_mode": {
    "name": "ipython",
    "version": 3
   },
   "file_extension": ".py",
   "mimetype": "text/x-python",
   "name": "python",
   "nbconvert_exporter": "python",
   "pygments_lexer": "ipython3",
   "version": "3.6.10"
  }
 },
 "nbformat": 4,
 "nbformat_minor": 4
}
