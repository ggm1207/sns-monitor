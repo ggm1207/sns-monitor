{
 "cells": [
  {
   "cell_type": "code",
   "execution_count": 71,
   "metadata": {},
   "outputs": [],
   "source": [
    "import pandas as pd\n",
    "import re\n",
    "from collections import defaultdict"
   ]
  },
  {
   "cell_type": "code",
   "execution_count": 80,
   "metadata": {},
   "outputs": [],
   "source": [
    "df = pd.read_csv(\"./dataset/NewsResult_19900101-20211006.csv\")"
   ]
  },
  {
   "cell_type": "code",
   "execution_count": 81,
   "metadata": {},
   "outputs": [
    {
     "data": {
      "text/plain": [
       "'배성규 논설위원'"
      ]
     },
     "execution_count": 81,
     "metadata": {},
     "output_type": "execute_result"
    }
   ],
   "source": [
    "df['기고자'][0]"
   ]
  },
  {
   "cell_type": "code",
   "execution_count": 82,
   "metadata": {},
   "outputs": [],
   "source": [
    "name = df['기고자'][0][:3]\n",
    "email = re.search(r'[\\w.+-]+@[\\w-]+\\.[\\w.-]+', df['기고자'][0])"
   ]
  },
  {
   "cell_type": "code",
   "execution_count": 99,
   "metadata": {},
   "outputs": [],
   "source": [
    "result = []\n",
    "name_dict = {}\n",
    "\n",
    "for i in df.iterrows():\n",
    "    record = i[1]\n",
    "    date = record['일자']\n",
    "    company = record['언론사']\n",
    "    txt = record['기고자']\n",
    "    \n",
    "    if type(txt) == str :\n",
    "        name = txt[:3]\n",
    "        email = re.search(r'[\\w.+-]+@[\\w-]+\\.[\\w.-]+', txt)\n",
    "    \n",
    "    else :\n",
    "        name = txt\n",
    "        \n",
    "    processed_dict = {}\n",
    "    processed_dict['name'] = name\n",
    "    processed_dict['company'] = company\n",
    "    \n",
    "    if email :\n",
    "        processed_dict['email'] = email.group(0)\n",
    "        \n",
    "        if name not in name_dict :\n",
    "            result.append(processed_dict)\n",
    "            name_dict[name] = True\n"
   ]
  },
  {
   "cell_type": "code",
   "execution_count": 101,
   "metadata": {},
   "outputs": [],
   "source": [
    "preprocessed_df = pd.DataFrame(result)"
   ]
  },
  {
   "cell_type": "code",
   "execution_count": 102,
   "metadata": {},
   "outputs": [],
   "source": [
    "preprocessed_df.to_csv(\"preprocessed_email.csv\")"
   ]
  },
  {
   "cell_type": "code",
   "execution_count": 103,
   "metadata": {},
   "outputs": [
    {
     "data": {
      "text/plain": [
       "name       389\n",
       "company    390\n",
       "email      390\n",
       "dtype: int64"
      ]
     },
     "execution_count": 103,
     "metadata": {},
     "output_type": "execute_result"
    }
   ],
   "source": [
    "preprocessed_df.count()"
   ]
  },
  {
   "cell_type": "code",
   "execution_count": null,
   "metadata": {},
   "outputs": [],
   "source": []
  }
 ],
 "metadata": {
  "kernelspec": {
   "display_name": "DLassn",
   "language": "python",
   "name": "dlassn"
  },
  "language_info": {
   "codemirror_mode": {
    "name": "ipython",
    "version": 3
   },
   "file_extension": ".py",
   "mimetype": "text/x-python",
   "name": "python",
   "nbconvert_exporter": "python",
   "pygments_lexer": "ipython3",
   "version": "3.6.10"
  }
 },
 "nbformat": 4,
 "nbformat_minor": 4
}
