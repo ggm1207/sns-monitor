{
 "cells": [
  {
   "cell_type": "markdown",
   "id": "1de62096",
   "metadata": {},
   "source": [
    "- 2 Stage\n",
    "- 데이터를 만들고 Zip형태로 생성\n",
    "- Zip을 Lambda에서 다루는 형태로\n",
    "    - 이렇게 하는 이유는 의존성 Library를 최대한 줄이기 위함"
   ]
  },
  {
   "cell_type": "markdown",
   "id": "9ec2d2e1",
   "metadata": {},
   "source": [
    "# First Stage"
   ]
  },
  {
   "cell_type": "code",
   "execution_count": 1,
   "id": "44d2ff8d",
   "metadata": {},
   "outputs": [],
   "source": [
    "import os\n",
    "import datetime\n",
    "from pathlib import Path\n",
    "\n",
    "import nltk\n",
    "import numpy as np\n",
    "import pandas as pd\n",
    "import seaborn as sns\n",
    "from wordcloud import WordCloud\n",
    "\n",
    "import matplotlib as mpl\n",
    "from konlpy.tag import Twitter\n",
    "import matplotlib.pyplot as plt\n",
    "import matplotlib.font_manager as fm"
   ]
  },
  {
   "cell_type": "code",
   "execution_count": 2,
   "id": "9f7d23d0",
   "metadata": {},
   "outputs": [],
   "source": [
    "# 그래프를 노트북 안에 그리기 위해 설정\n",
    "%matplotlib inline\n",
    "\n",
    "# 그래프에서 마이너스 폰트 깨지는 문제에 대한 대처\n",
    "mpl.rcParams['axes.unicode_minus'] = False\n",
    "\n",
    "font_dirs = ['../static/NanumBarunGothic.ttf']\n",
    "font_files = fm.findSystemFonts(fontpaths=font_dirs)\n",
    "\n",
    "for font_file in font_files:\n",
    "    fm.fontManager.addfont(font_file)\n",
    "\n",
    "sns.set(font_scale=1.2)\n",
    "# set font\n",
    "plt.rcParams['font.family'] = 'NanumBarunGothic'"
   ]
  },
  {
   "cell_type": "code",
   "execution_count": 80,
   "id": "f12abe64",
   "metadata": {},
   "outputs": [],
   "source": [
    "import io\n",
    "import zipfile\n",
    "\n",
    "FOLLOWERS = dict()\n",
    "FOLLOWERS['instagram'] = 4703  # https://www.instagram.com/kimdongyeon_dy/\n",
    "FOLLOWERS['youtube'] = 6590  # https://www.youtube.com/channel/UCDBTesvGqBsob4BsOc41hqA\n",
    "FOLLOWERS['facebook'] = 13000  # https://www.facebook.com/DY.AfterYou/\n",
    "\n",
    "\n",
    "def read_zipfile(zipfile_path: str):\n",
    "    myzip = zipfile.ZipFile(zipfile_path)\n",
    "    datas = dict()\n",
    "    \n",
    "    for name in myzip.namelist():\n",
    "        if not name.startswith(\"__MACOSX\") and name.endswith(\"csv\"):\n",
    "            key = name.split(\"/\")[-1][:-4].lower().replace(\" \", \"_\")\n",
    "            buf = io.BytesIO(myzip.read(name))\n",
    "            datas[key] = buf\n",
    "    \n",
    "    return datas\n",
    "\n",
    "def _prep_datalab(datas: dict):\n",
    "    datas['datalab'] = pd.read_csv(datas[\"datalab\"], skiprows=7, names=['Date', \"버즈량\"])\n",
    "    \n",
    "\n",
    "def _prep_fb_insights(datas: dict):\n",
    "    datas['facebook_follower'] = pd.read_csv(datas['fb_insights'],\n",
    "                                        usecols=['Date', 'Counts'],\n",
    "                                        parse_dates=['Date'])\n",
    "    \n",
    "    datas['facebook_follower'].drop(0, inplace=True)\n",
    "    datas['facebook_follower'].columns = ['Date', 'facebook_Counts']\n",
    "\n",
    "    # datas['facebook_follower']['sns_type'] = \"Facebook\"\n",
    "    datas['facebook_follower'] = datas['facebook_follower'].fillna(0)\n",
    "    datas['facebook_follower']['facebook_Counts'] = datas['facebook_follower'][\"facebook_Counts\"].map(int)\n",
    "    \n",
    "    total_sum = datas['facebook_follower']['facebook_Counts'].sum()\n",
    "    facebook_follower_start = FOLLOWERS['facebook'] - total_sum\n",
    "    datas['facebook_follower']['facebook_Counts'] = datas['facebook_follower']['facebook_Counts'].cumsum() + facebook_follower_start\n",
    "    datas['facebook_follower']['facebook_Texts'] = datas['facebook_follower'][\"facebook_Counts\"].astype(str)\n",
    "\n",
    "    # instagram followers\n",
    "    datas['instagram_follower'] = datas['facebook_follower'].loc[:, 'Date':'Date'].copy()\n",
    "    datas['instagram_follower'][\"instagram_Counts\"] = np.linspace(1518, FOLLOWERS['instagram'], len(datas['instagram_follower'])).astype(int)\n",
    "    datas['instagram_follower']['instagram_Texts'] = datas['instagram_follower'][\"instagram_Counts\"].astype(str)\n",
    "    \n",
    "def _prep_table_data(datas: dict):\n",
    "    datas['youtube_table'] = pd.read_csv(datas[\"table_data\"]) # 언제 쓰임?\n",
    "\n",
    "def _prep_totals(datas: dict):\n",
    "    datas['youtube_follower'] = pd.read_csv(datas['totals'], parse_dates=['Date'])\n",
    "#     datas['youtube_follower'] = datas['youtube_follower'][(datas['youtube_follower']['Date'] >= s_date) &\n",
    "#                              (datas['youtube_follower']['Date'] <= e_date)]\n",
    "    \n",
    "    s_follower = FOLLOWERS['youtube'] - datas['youtube_follower']['Subscribers'].sum()\n",
    "    datas['youtube_follower']['Subscribers'] = datas['youtube_follower']['Subscribers'].cumsum() + s_follower\n",
    "    datas['youtube_follower'].columns = ['Date', 'youtube_Counts']\n",
    "    datas['youtube_follower']['youtube_Texts'] = datas['youtube_follower'][\"youtube_Counts\"].astype(str)\n",
    "\n",
    "def preprocessed(datas: dict):\n",
    "    _prep_datalab(datas)\n",
    "    _prep_fb_insights(datas)\n",
    "    _prep_table_data(datas)\n",
    "    _prep_totals(datas)\n",
    "    return datas\n",
    "\n",
    "def make_bardatas(datas):\n",
    "    left_df = pd.DataFrame([], columns=['Date'])\n",
    "\n",
    "    for right_name in ['youtube_follower', 'facebook_follower', 'instagram_follower']:\n",
    "        right_df = datas[right_name]\n",
    "        left_df = pd.merge(left=left_df, right=right_df, on=\"Date\", how='outer')\n",
    "    \n",
    "    left_df.dropna(inplace=True)\n",
    "    return left_df"
   ]
  },
  {
   "cell_type": "code",
   "execution_count": 81,
   "id": "acbea9da",
   "metadata": {},
   "outputs": [],
   "source": [
    "datas = read_zipfile(\"/Users/gugeonmo/Data/Archive.zip\")"
   ]
  },
  {
   "cell_type": "code",
   "execution_count": 82,
   "id": "acb4e558",
   "metadata": {},
   "outputs": [],
   "source": [
    "datas = preprocessed(datas)"
   ]
  },
  {
   "cell_type": "code",
   "execution_count": 83,
   "id": "82b37b29",
   "metadata": {},
   "outputs": [],
   "source": [
    "bar_df = make_bardatas(datas)"
   ]
  },
  {
   "cell_type": "markdown",
   "id": "6f81f3cb",
   "metadata": {},
   "source": [
    "**여기까지 하고 우선 마무리**"
   ]
  },
  {
   "cell_type": "markdown",
   "id": "decb3c9c",
   "metadata": {},
   "source": [
    "# Second Stage"
   ]
  },
  {
   "cell_type": "code",
   "execution_count": null,
   "id": "36a275d3",
   "metadata": {},
   "outputs": [],
   "source": []
  }
 ],
 "metadata": {
  "hide_input": false,
  "kernelspec": {
   "display_name": "Python 3 (ipykernel)",
   "language": "python",
   "name": "python3"
  },
  "language_info": {
   "codemirror_mode": {
    "name": "ipython",
    "version": 3
   },
   "file_extension": ".py",
   "mimetype": "text/x-python",
   "name": "python",
   "nbconvert_exporter": "python",
   "pygments_lexer": "ipython3",
   "version": "3.9.5"
  },
  "toc": {
   "base_numbering": 1,
   "nav_menu": {},
   "number_sections": true,
   "sideBar": true,
   "skip_h1_title": false,
   "title_cell": "Table of Contents",
   "title_sidebar": "Contents",
   "toc_cell": false,
   "toc_position": {},
   "toc_section_display": true,
   "toc_window_display": false
  }
 },
 "nbformat": 4,
 "nbformat_minor": 5
}
