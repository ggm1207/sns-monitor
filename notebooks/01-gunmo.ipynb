{
 "cells": [
  {
   "cell_type": "code",
   "execution_count": null,
   "metadata": {},
   "outputs": [],
   "source": [
    "!pip3 -q install nltk\n",
    "!pip3 -q install wordcloud"
   ]
  },
  {
   "cell_type": "markdown",
   "metadata": {},
   "source": [
    "# Import"
   ]
  },
  {
   "cell_type": "code",
   "execution_count": 1,
   "metadata": {},
   "outputs": [],
   "source": [
    "import os\n",
    "import datetime\n",
    "\n",
    "import nltk\n",
    "import numpy as np\n",
    "import pandas as pd\n",
    "import seaborn as sns\n",
    "from wordcloud import WordCloud\n",
    "\n",
    "import matplotlib as mpl\n",
    "from konlpy.tag import Twitter\n",
    "import matplotlib.pyplot as plt\n",
    "import matplotlib.font_manager as fm"
   ]
  },
  {
   "cell_type": "code",
   "execution_count": 2,
   "metadata": {},
   "outputs": [],
   "source": [
    "# 그래프를 노트북 안에 그리기 위해 설정\n",
    "%matplotlib inline\n",
    "\n",
    "# 그래프에서 마이너스 폰트 깨지는 문제에 대한 대처\n",
    "mpl.rcParams['axes.unicode_minus'] = False\n",
    "\n",
    "font_dirs = ['../static/NanumBarunGothic.ttf']\n",
    "font_files = fm.findSystemFonts(fontpaths=font_dirs)\n",
    "\n",
    "for font_file in font_files:\n",
    "    fm.fontManager.addfont(font_file)\n",
    "\n",
    "sns.set(font_scale=1.2)\n",
    "# set font\n",
    "plt.rcParams['font.family'] = 'NanumBarunGothic'"
   ]
  },
  {
   "cell_type": "markdown",
   "metadata": {},
   "source": [
    "# Args"
   ]
  },
  {
   "cell_type": "markdown",
   "metadata": {},
   "source": [
    "입력 받아야 하는 변수들\n",
    "\n",
    "- date_week\n",
    "- instagram_follower\n",
    "- youtube_subscriners\n",
    "- facebook_followers"
   ]
  },
  {
   "cell_type": "markdown",
   "metadata": {},
   "source": [
    "# Load Datas"
   ]
  },
  {
   "cell_type": "code",
   "execution_count": 3,
   "metadata": {},
   "outputs": [],
   "source": [
    "date_week = \"2021-11-24\"\n",
    "\n",
    "FOLLOWERS = dict()\n",
    "FOLLOWERS['instragram'] = 2426\n",
    "FOLLOWERS['youtube'] = 4350\n",
    "FOLLOWERS['facebook'] = 576"
   ]
  },
  {
   "cell_type": "code",
   "execution_count": 4,
   "metadata": {},
   "outputs": [],
   "source": [
    "data_path = f\"../sns-data/{date_week}\"\n",
    "webnames = ['youtube', 'facebook', 'article', 'datalab']"
   ]
  },
  {
   "cell_type": "code",
   "execution_count": 5,
   "metadata": {},
   "outputs": [],
   "source": [
    "from pathlib import Path\n",
    "\n",
    "def mkdir_folders(date_week, webnames):\n",
    "    p = Path(f\"../sns-data/{date_week}\")\n",
    "    p.mkdir(parents=True, exist_ok=True)\n",
    "    \n",
    "    Path(f\"../weekly_plots/{date_week}\").mkdir(parents=True, exist_ok=True)\n",
    "    \n",
    "    for webname in webnames:\n",
    "        (p / webname).mkdir(parents=True, exist_ok=True)"
   ]
  },
  {
   "cell_type": "code",
   "execution_count": 6,
   "metadata": {},
   "outputs": [],
   "source": [
    "mkdir_folders(date_week, webnames)"
   ]
  },
  {
   "cell_type": "code",
   "execution_count": 295,
   "metadata": {},
   "outputs": [],
   "source": [
    "def load_dataframes(data_path, s_date, e_date):\n",
    "    datas = dict()\n",
    "    \n",
    "    datas['youtube_table'] = pd.read_csv(f\"{data_path}/youtube/Table data.csv\")\n",
    "    \n",
    "    # youtube follower\n",
    "    datas['youtube_follower'] = pd.read_csv(f\"{data_path}/youtube/Totals.csv\", parse_dates=['Date'])\n",
    "    datas['youtube_follower'] = datas['youtube_follower'][(datas['youtube_follower']['Date'] >= s_date) &\n",
    "                             (datas['youtube_follower']['Date'] <= e_date)]\n",
    "    \n",
    "    s_follower = FOLLOWERS['youtube'] - datas['youtube_follower']['Subscribers'].sum()\n",
    "    datas['youtube_follower']['Subscribers'] = datas['youtube_follower']['Subscribers'].cumsum() + s_follower\n",
    "    datas['youtube_follower'].columns = ['Date', 'youtube_Counts']\n",
    "    datas['youtube_follower']['youtube_Texts'] = datas['youtube_follower'][\"youtube_Counts\"].astype(str)\n",
    "    \n",
    "    # datas['youtube_follower']['sns_type'] = 'Youtube'\n",
    "\n",
    "    # facebook follower\n",
    "    datas['facebook_follower'] = pd.read_csv(f\"{data_path}/facebook/facebook_insights.csv\",\n",
    "                                        usecols=['날짜', 'Daily New Likes'],\n",
    "                                        parse_dates=['날짜'])\n",
    "    datas['facebook_follower'].drop(0, inplace=True)\n",
    "    datas['facebook_follower'].columns = ['Date', 'facebook_Counts']\n",
    "    datas['facebook_follower'] = datas['facebook_follower'][(datas['facebook_follower']['Date'] >= s_date) &\n",
    "                             (datas['facebook_follower']['Date'] <= e_date)]\n",
    "    # datas['facebook_follower']['sns_type'] = \"Facebook\"\n",
    "    datas['facebook_follower'] = datas['facebook_follower'].fillna(0)\n",
    "    datas['facebook_follower']['facebook_Counts'] = datas['facebook_follower'][\"facebook_Counts\"].map(int)\n",
    "    \n",
    "    total_sum = datas['facebook_follower']['facebook_Counts'].sum()\n",
    "    facebook_follower_start = FOLLOWERS['facebook'] - total_sum\n",
    "    datas['facebook_follower']['facebook_Counts'] = datas['facebook_follower']['facebook_Counts'].cumsum() + facebook_follower_start\n",
    "    datas['facebook_follower']['facebook_Texts'] = datas['facebook_follower'][\"facebook_Counts\"].astype(str)\n",
    "    \n",
    "    # instagram followers\n",
    "    datas['instagram_follower'] = datas['facebook_follower'].loc[:, 'Date':'Date'].copy()\n",
    "    datas['instagram_follower'][\"instagram_Counts\"] = np.linspace(1518, 1889, len(datas['instagram_follower'])).astype(int)\n",
    "    datas['instagram_follower']['instagram_Texts'] = datas['instagram_follower'][\"instagram_Counts\"].astype(str)\n",
    "    \n",
    "    # article\n",
    "    datas['article_org'] = pd.read_csv(f\"{data_path}/article/article.csv\", parse_dates=['pubDate'],\n",
    "                                      usecols=['title', 'pubDate'])\n",
    "    datas['article'] = pd.read_csv(f\"{data_path}/article/article.csv\", parse_dates=['pubDate'],\n",
    "                           usecols=['title', 'pubDate'])\n",
    "    datas['article'] = datas['article'][['title', 'pubDate']].groupby('pubDate').count().reset_index()\n",
    "    datas['article'].columns = ['Date', 'article_Counts']\n",
    "    datas['article']['article_Texts'] = datas['article'][\"article_Counts\"].astype(str)\n",
    "    \n",
    "    datas['datalab'] = pd.read_csv(\"../sns-data/2021-11-24/datalab/datalab.csv\", skiprows=7, names=['Date', \"버즈량\"])\n",
    "    \n",
    "    return datas"
   ]
  },
  {
   "cell_type": "code",
   "execution_count": 296,
   "metadata": {},
   "outputs": [],
   "source": [
    "from datetime import datetime, timedelta\n",
    "\n",
    "e_date = datetime.strptime(date_week, '%Y-%m-%d')\n",
    "s_date = e_date - timedelta(days=7)"
   ]
  },
  {
   "cell_type": "code",
   "execution_count": 297,
   "metadata": {},
   "outputs": [],
   "source": [
    "datas = load_dataframes(data_path, s_date, e_date)"
   ]
  },
  {
   "cell_type": "code",
   "execution_count": 10,
   "metadata": {},
   "outputs": [],
   "source": [
    "left_df = pd.DataFrame([], columns=['Date'])\n",
    "\n",
    "for right_name in ['youtube_follower', 'facebook_follower', 'instagram_follower', 'article']:\n",
    "    right_df = datas[right_name]\n",
    "    left_df = pd.merge(left=left_df, right=right_df, on=\"Date\", how='outer')"
   ]
  },
  {
   "cell_type": "code",
   "execution_count": 11,
   "metadata": {},
   "outputs": [
    {
     "data": {
      "text/html": [
       "<div>\n",
       "<style scoped>\n",
       "    .dataframe tbody tr th:only-of-type {\n",
       "        vertical-align: middle;\n",
       "    }\n",
       "\n",
       "    .dataframe tbody tr th {\n",
       "        vertical-align: top;\n",
       "    }\n",
       "\n",
       "    .dataframe thead th {\n",
       "        text-align: right;\n",
       "    }\n",
       "</style>\n",
       "<table border=\"1\" class=\"dataframe\">\n",
       "  <thead>\n",
       "    <tr style=\"text-align: right;\">\n",
       "      <th></th>\n",
       "      <th>Date</th>\n",
       "      <th>youtube_Counts</th>\n",
       "      <th>youtube_Texts</th>\n",
       "      <th>facebook_Counts</th>\n",
       "      <th>facebook_Texts</th>\n",
       "      <th>instagram_Counts</th>\n",
       "      <th>instagram_Texts</th>\n",
       "      <th>article_Counts</th>\n",
       "      <th>article_Texts</th>\n",
       "    </tr>\n",
       "  </thead>\n",
       "  <tbody>\n",
       "    <tr>\n",
       "      <th>0</th>\n",
       "      <td>2021-11-17</td>\n",
       "      <td>4141.0</td>\n",
       "      <td>4141</td>\n",
       "      <td>554</td>\n",
       "      <td>554</td>\n",
       "      <td>1518</td>\n",
       "      <td>1518</td>\n",
       "      <td>NaN</td>\n",
       "      <td>NaN</td>\n",
       "    </tr>\n",
       "    <tr>\n",
       "      <th>1</th>\n",
       "      <td>2021-11-18</td>\n",
       "      <td>4181.0</td>\n",
       "      <td>4181</td>\n",
       "      <td>555</td>\n",
       "      <td>555</td>\n",
       "      <td>1579</td>\n",
       "      <td>1579</td>\n",
       "      <td>9.0</td>\n",
       "      <td>9</td>\n",
       "    </tr>\n",
       "    <tr>\n",
       "      <th>2</th>\n",
       "      <td>2021-11-19</td>\n",
       "      <td>4229.0</td>\n",
       "      <td>4229</td>\n",
       "      <td>557</td>\n",
       "      <td>557</td>\n",
       "      <td>1641</td>\n",
       "      <td>1641</td>\n",
       "      <td>7.0</td>\n",
       "      <td>7</td>\n",
       "    </tr>\n",
       "    <tr>\n",
       "      <th>3</th>\n",
       "      <td>2021-11-20</td>\n",
       "      <td>4285.0</td>\n",
       "      <td>4285</td>\n",
       "      <td>561</td>\n",
       "      <td>561</td>\n",
       "      <td>1703</td>\n",
       "      <td>1703</td>\n",
       "      <td>5.0</td>\n",
       "      <td>5</td>\n",
       "    </tr>\n",
       "    <tr>\n",
       "      <th>4</th>\n",
       "      <td>2021-11-21</td>\n",
       "      <td>4322.0</td>\n",
       "      <td>4322</td>\n",
       "      <td>566</td>\n",
       "      <td>566</td>\n",
       "      <td>1765</td>\n",
       "      <td>1765</td>\n",
       "      <td>21.0</td>\n",
       "      <td>21</td>\n",
       "    </tr>\n",
       "    <tr>\n",
       "      <th>5</th>\n",
       "      <td>2021-11-22</td>\n",
       "      <td>4350.0</td>\n",
       "      <td>4350</td>\n",
       "      <td>569</td>\n",
       "      <td>569</td>\n",
       "      <td>1827</td>\n",
       "      <td>1827</td>\n",
       "      <td>54.0</td>\n",
       "      <td>54</td>\n",
       "    </tr>\n",
       "    <tr>\n",
       "      <th>6</th>\n",
       "      <td>2021-11-23</td>\n",
       "      <td>NaN</td>\n",
       "      <td>NaN</td>\n",
       "      <td>576</td>\n",
       "      <td>576</td>\n",
       "      <td>1889</td>\n",
       "      <td>1889</td>\n",
       "      <td>61.0</td>\n",
       "      <td>61</td>\n",
       "    </tr>\n",
       "  </tbody>\n",
       "</table>\n",
       "</div>"
      ],
      "text/plain": [
       "        Date  youtube_Counts youtube_Texts  facebook_Counts facebook_Texts  \\\n",
       "0 2021-11-17          4141.0          4141              554            554   \n",
       "1 2021-11-18          4181.0          4181              555            555   \n",
       "2 2021-11-19          4229.0          4229              557            557   \n",
       "3 2021-11-20          4285.0          4285              561            561   \n",
       "4 2021-11-21          4322.0          4322              566            566   \n",
       "5 2021-11-22          4350.0          4350              569            569   \n",
       "6 2021-11-23             NaN           NaN              576            576   \n",
       "\n",
       "   instagram_Counts instagram_Texts  article_Counts article_Texts  \n",
       "0              1518            1518             NaN           NaN  \n",
       "1              1579            1579             9.0             9  \n",
       "2              1641            1641             7.0             7  \n",
       "3              1703            1703             5.0             5  \n",
       "4              1765            1765            21.0            21  \n",
       "5              1827            1827            54.0            54  \n",
       "6              1889            1889            61.0            61  "
      ]
     },
     "execution_count": 11,
     "metadata": {},
     "output_type": "execute_result"
    }
   ],
   "source": [
    "left_df"
   ]
  },
  {
   "cell_type": "code",
   "execution_count": 12,
   "metadata": {},
   "outputs": [],
   "source": [
    "left_df.iloc[:, ::2] = left_df.iloc[:, ::2].fillna('')"
   ]
  },
  {
   "cell_type": "code",
   "execution_count": 13,
   "metadata": {},
   "outputs": [
    {
     "data": {
      "text/plain": [
       "dict_keys(['youtube_table', 'youtube_follower', 'facebook_follower', 'instagram_follower', 'article', 'datalab'])"
      ]
     },
     "execution_count": 13,
     "metadata": {},
     "output_type": "execute_result"
    }
   ],
   "source": [
    "datas.keys()"
   ]
  },
  {
   "cell_type": "code",
   "execution_count": 67,
   "metadata": {},
   "outputs": [],
   "source": [
    "from bokeh.models import ColumnDataSource\n",
    "\n",
    "source = ColumnDataSource(left_df)\n",
    "source2 = ColumnDataSource(left_df.copy())"
   ]
  },
  {
   "cell_type": "code",
   "execution_count": 85,
   "metadata": {},
   "outputs": [
    {
     "data": {
      "text/plain": [
       "{'index': array([0, 1, 2, 3, 4, 5, 6]),\n",
       " 'Date': array(['2021-11-17T00:00:00.000000000', '2021-11-18T00:00:00.000000000',\n",
       "        '2021-11-19T00:00:00.000000000', '2021-11-20T00:00:00.000000000',\n",
       "        '2021-11-21T00:00:00.000000000', '2021-11-22T00:00:00.000000000',\n",
       "        '2021-11-23T00:00:00.000000000'], dtype='datetime64[ns]'),\n",
       " 'youtube_Counts': array([4141., 4181., 4229., 4285., 4322., 4350.,   nan]),\n",
       " 'youtube_Texts': array(['4141', '4181', '4229', '4285', '4322', '4350', ''], dtype=object),\n",
       " 'facebook_Counts': array([554, 555, 557, 561, 566, 569, 576]),\n",
       " 'facebook_Texts': array(['554', '555', '557', '561', '566', '569', '576'], dtype=object),\n",
       " 'instagram_Counts': array([1518, 1579, 1641, 1703, 1765, 1827, 1889]),\n",
       " 'instagram_Texts': array(['1518', '1579', '1641', '1703', '1765', '1827', '1889'],\n",
       "       dtype=object),\n",
       " 'article_Counts': array([nan,  9.,  7.,  5., 21., 54., 61.]),\n",
       " 'article_Texts': array(['', '9', '7', '5', '21', '54', '61'], dtype=object)}"
      ]
     },
     "execution_count": 85,
     "metadata": {},
     "output_type": "execute_result"
    }
   ],
   "source": [
    "source2.data"
   ]
  },
  {
   "cell_type": "code",
   "execution_count": 144,
   "metadata": {},
   "outputs": [
    {
     "data": {
      "text/html": [
       "\n",
       "    <div class=\"bk-root\">\n",
       "        <a href=\"https://bokeh.org\" target=\"_blank\" class=\"bk-logo bk-logo-small bk-logo-notebook\"></a>\n",
       "        <span id=\"176502\">Loading BokehJS ...</span>\n",
       "    </div>"
      ]
     },
     "metadata": {},
     "output_type": "display_data"
    },
    {
     "data": {
      "application/javascript": [
       "\n",
       "(function(root) {\n",
       "  function now() {\n",
       "    return new Date();\n",
       "  }\n",
       "\n",
       "  const force = true;\n",
       "\n",
       "  if (typeof root._bokeh_onload_callbacks === \"undefined\" || force === true) {\n",
       "    root._bokeh_onload_callbacks = [];\n",
       "    root._bokeh_is_loading = undefined;\n",
       "  }\n",
       "\n",
       "  const JS_MIME_TYPE = 'application/javascript';\n",
       "  const HTML_MIME_TYPE = 'text/html';\n",
       "  const EXEC_MIME_TYPE = 'application/vnd.bokehjs_exec.v0+json';\n",
       "  const CLASS_NAME = 'output_bokeh rendered_html';\n",
       "\n",
       "  /**\n",
       "   * Render data to the DOM node\n",
       "   */\n",
       "  function render(props, node) {\n",
       "    const script = document.createElement(\"script\");\n",
       "    node.appendChild(script);\n",
       "  }\n",
       "\n",
       "  /**\n",
       "   * Handle when an output is cleared or removed\n",
       "   */\n",
       "  function handleClearOutput(event, handle) {\n",
       "    const cell = handle.cell;\n",
       "\n",
       "    const id = cell.output_area._bokeh_element_id;\n",
       "    const server_id = cell.output_area._bokeh_server_id;\n",
       "    // Clean up Bokeh references\n",
       "    if (id != null && id in Bokeh.index) {\n",
       "      Bokeh.index[id].model.document.clear();\n",
       "      delete Bokeh.index[id];\n",
       "    }\n",
       "\n",
       "    if (server_id !== undefined) {\n",
       "      // Clean up Bokeh references\n",
       "      const cmd_clean = \"from bokeh.io.state import curstate; print(curstate().uuid_to_server['\" + server_id + \"'].get_sessions()[0].document.roots[0]._id)\";\n",
       "      cell.notebook.kernel.execute(cmd_clean, {\n",
       "        iopub: {\n",
       "          output: function(msg) {\n",
       "            const id = msg.content.text.trim();\n",
       "            if (id in Bokeh.index) {\n",
       "              Bokeh.index[id].model.document.clear();\n",
       "              delete Bokeh.index[id];\n",
       "            }\n",
       "          }\n",
       "        }\n",
       "      });\n",
       "      // Destroy server and session\n",
       "      const cmd_destroy = \"import bokeh.io.notebook as ion; ion.destroy_server('\" + server_id + \"')\";\n",
       "      cell.notebook.kernel.execute(cmd_destroy);\n",
       "    }\n",
       "  }\n",
       "\n",
       "  /**\n",
       "   * Handle when a new output is added\n",
       "   */\n",
       "  function handleAddOutput(event, handle) {\n",
       "    const output_area = handle.output_area;\n",
       "    const output = handle.output;\n",
       "\n",
       "    // limit handleAddOutput to display_data with EXEC_MIME_TYPE content only\n",
       "    if ((output.output_type != \"display_data\") || (!Object.prototype.hasOwnProperty.call(output.data, EXEC_MIME_TYPE))) {\n",
       "      return\n",
       "    }\n",
       "\n",
       "    const toinsert = output_area.element.find(\".\" + CLASS_NAME.split(' ')[0]);\n",
       "\n",
       "    if (output.metadata[EXEC_MIME_TYPE][\"id\"] !== undefined) {\n",
       "      toinsert[toinsert.length - 1].firstChild.textContent = output.data[JS_MIME_TYPE];\n",
       "      // store reference to embed id on output_area\n",
       "      output_area._bokeh_element_id = output.metadata[EXEC_MIME_TYPE][\"id\"];\n",
       "    }\n",
       "    if (output.metadata[EXEC_MIME_TYPE][\"server_id\"] !== undefined) {\n",
       "      const bk_div = document.createElement(\"div\");\n",
       "      bk_div.innerHTML = output.data[HTML_MIME_TYPE];\n",
       "      const script_attrs = bk_div.children[0].attributes;\n",
       "      for (let i = 0; i < script_attrs.length; i++) {\n",
       "        toinsert[toinsert.length - 1].firstChild.setAttribute(script_attrs[i].name, script_attrs[i].value);\n",
       "        toinsert[toinsert.length - 1].firstChild.textContent = bk_div.children[0].textContent\n",
       "      }\n",
       "      // store reference to server id on output_area\n",
       "      output_area._bokeh_server_id = output.metadata[EXEC_MIME_TYPE][\"server_id\"];\n",
       "    }\n",
       "  }\n",
       "\n",
       "  function register_renderer(events, OutputArea) {\n",
       "\n",
       "    function append_mime(data, metadata, element) {\n",
       "      // create a DOM node to render to\n",
       "      const toinsert = this.create_output_subarea(\n",
       "        metadata,\n",
       "        CLASS_NAME,\n",
       "        EXEC_MIME_TYPE\n",
       "      );\n",
       "      this.keyboard_manager.register_events(toinsert);\n",
       "      // Render to node\n",
       "      const props = {data: data, metadata: metadata[EXEC_MIME_TYPE]};\n",
       "      render(props, toinsert[toinsert.length - 1]);\n",
       "      element.append(toinsert);\n",
       "      return toinsert\n",
       "    }\n",
       "\n",
       "    /* Handle when an output is cleared or removed */\n",
       "    events.on('clear_output.CodeCell', handleClearOutput);\n",
       "    events.on('delete.Cell', handleClearOutput);\n",
       "\n",
       "    /* Handle when a new output is added */\n",
       "    events.on('output_added.OutputArea', handleAddOutput);\n",
       "\n",
       "    /**\n",
       "     * Register the mime type and append_mime function with output_area\n",
       "     */\n",
       "    OutputArea.prototype.register_mime_type(EXEC_MIME_TYPE, append_mime, {\n",
       "      /* Is output safe? */\n",
       "      safe: true,\n",
       "      /* Index of renderer in `output_area.display_order` */\n",
       "      index: 0\n",
       "    });\n",
       "  }\n",
       "\n",
       "  // register the mime type if in Jupyter Notebook environment and previously unregistered\n",
       "  if (root.Jupyter !== undefined) {\n",
       "    const events = require('base/js/events');\n",
       "    const OutputArea = require('notebook/js/outputarea').OutputArea;\n",
       "\n",
       "    if (OutputArea.prototype.mime_types().indexOf(EXEC_MIME_TYPE) == -1) {\n",
       "      register_renderer(events, OutputArea);\n",
       "    }\n",
       "  }\n",
       "\n",
       "  \n",
       "  if (typeof (root._bokeh_timeout) === \"undefined\" || force === true) {\n",
       "    root._bokeh_timeout = Date.now() + 5000;\n",
       "    root._bokeh_failed_load = false;\n",
       "  }\n",
       "\n",
       "  const NB_LOAD_WARNING = {'data': {'text/html':\n",
       "     \"<div style='background-color: #fdd'>\\n\"+\n",
       "     \"<p>\\n\"+\n",
       "     \"BokehJS does not appear to have successfully loaded. If loading BokehJS from CDN, this \\n\"+\n",
       "     \"may be due to a slow or bad network connection. Possible fixes:\\n\"+\n",
       "     \"</p>\\n\"+\n",
       "     \"<ul>\\n\"+\n",
       "     \"<li>re-rerun `output_notebook()` to attempt to load from CDN again, or</li>\\n\"+\n",
       "     \"<li>use INLINE resources instead, as so:</li>\\n\"+\n",
       "     \"</ul>\\n\"+\n",
       "     \"<code>\\n\"+\n",
       "     \"from bokeh.resources import INLINE\\n\"+\n",
       "     \"output_notebook(resources=INLINE)\\n\"+\n",
       "     \"</code>\\n\"+\n",
       "     \"</div>\"}};\n",
       "\n",
       "  function display_loaded() {\n",
       "    const el = document.getElementById(\"176502\");\n",
       "    if (el != null) {\n",
       "      el.textContent = \"BokehJS is loading...\";\n",
       "    }\n",
       "    if (root.Bokeh !== undefined) {\n",
       "      if (el != null) {\n",
       "        el.textContent = \"BokehJS \" + root.Bokeh.version + \" successfully loaded.\";\n",
       "      }\n",
       "    } else if (Date.now() < root._bokeh_timeout) {\n",
       "      setTimeout(display_loaded, 100)\n",
       "    }\n",
       "  }\n",
       "\n",
       "\n",
       "  function run_callbacks() {\n",
       "    try {\n",
       "      root._bokeh_onload_callbacks.forEach(function(callback) {\n",
       "        if (callback != null)\n",
       "          callback();\n",
       "      });\n",
       "    } finally {\n",
       "      delete root._bokeh_onload_callbacks\n",
       "    }\n",
       "    console.debug(\"Bokeh: all callbacks have finished\");\n",
       "  }\n",
       "\n",
       "  function load_libs(css_urls, js_urls, callback) {\n",
       "    if (css_urls == null) css_urls = [];\n",
       "    if (js_urls == null) js_urls = [];\n",
       "\n",
       "    root._bokeh_onload_callbacks.push(callback);\n",
       "    if (root._bokeh_is_loading > 0) {\n",
       "      console.debug(\"Bokeh: BokehJS is being loaded, scheduling callback at\", now());\n",
       "      return null;\n",
       "    }\n",
       "    if (js_urls == null || js_urls.length === 0) {\n",
       "      run_callbacks();\n",
       "      return null;\n",
       "    }\n",
       "    console.debug(\"Bokeh: BokehJS not loaded, scheduling load and callback at\", now());\n",
       "    root._bokeh_is_loading = css_urls.length + js_urls.length;\n",
       "\n",
       "    function on_load() {\n",
       "      root._bokeh_is_loading--;\n",
       "      if (root._bokeh_is_loading === 0) {\n",
       "        console.debug(\"Bokeh: all BokehJS libraries/stylesheets loaded\");\n",
       "        run_callbacks()\n",
       "      }\n",
       "    }\n",
       "\n",
       "    function on_error(url) {\n",
       "      console.error(\"failed to load \" + url);\n",
       "    }\n",
       "\n",
       "    for (let i = 0; i < css_urls.length; i++) {\n",
       "      const url = css_urls[i];\n",
       "      const element = document.createElement(\"link\");\n",
       "      element.onload = on_load;\n",
       "      element.onerror = on_error.bind(null, url);\n",
       "      element.rel = \"stylesheet\";\n",
       "      element.type = \"text/css\";\n",
       "      element.href = url;\n",
       "      console.debug(\"Bokeh: injecting link tag for BokehJS stylesheet: \", url);\n",
       "      document.body.appendChild(element);\n",
       "    }\n",
       "\n",
       "    for (let i = 0; i < js_urls.length; i++) {\n",
       "      const url = js_urls[i];\n",
       "      const element = document.createElement('script');\n",
       "      element.onload = on_load;\n",
       "      element.onerror = on_error.bind(null, url);\n",
       "      element.async = false;\n",
       "      element.src = url;\n",
       "      console.debug(\"Bokeh: injecting script tag for BokehJS library: \", url);\n",
       "      document.head.appendChild(element);\n",
       "    }\n",
       "  };\n",
       "\n",
       "  function inject_raw_css(css) {\n",
       "    const element = document.createElement(\"style\");\n",
       "    element.appendChild(document.createTextNode(css));\n",
       "    document.body.appendChild(element);\n",
       "  }\n",
       "\n",
       "  \n",
       "  const js_urls = [\"https://cdn.bokeh.org/bokeh/release/bokeh-2.4.2.min.js\", \"https://cdn.bokeh.org/bokeh/release/bokeh-gl-2.4.2.min.js\", \"https://cdn.bokeh.org/bokeh/release/bokeh-widgets-2.4.2.min.js\", \"https://cdn.bokeh.org/bokeh/release/bokeh-tables-2.4.2.min.js\", \"https://cdn.bokeh.org/bokeh/release/bokeh-mathjax-2.4.2.min.js\"];\n",
       "  const css_urls = [];\n",
       "  \n",
       "\n",
       "  const inline_js = [\n",
       "    function(Bokeh) {\n",
       "      Bokeh.set_log_level(\"info\");\n",
       "    },\n",
       "    function(Bokeh) {\n",
       "    \n",
       "    \n",
       "    }\n",
       "  ];\n",
       "\n",
       "  function run_inline_js() {\n",
       "    \n",
       "    if (root.Bokeh !== undefined || force === true) {\n",
       "      \n",
       "    for (let i = 0; i < inline_js.length; i++) {\n",
       "      inline_js[i].call(root, root.Bokeh);\n",
       "    }\n",
       "    if (force === true) {\n",
       "        display_loaded();\n",
       "      }} else if (Date.now() < root._bokeh_timeout) {\n",
       "      setTimeout(run_inline_js, 100);\n",
       "    } else if (!root._bokeh_failed_load) {\n",
       "      console.log(\"Bokeh: BokehJS failed to load within specified timeout.\");\n",
       "      root._bokeh_failed_load = true;\n",
       "    } else if (force !== true) {\n",
       "      const cell = $(document.getElementById(\"176502\")).parents('.cell').data().cell;\n",
       "      cell.output_area.append_execute_result(NB_LOAD_WARNING)\n",
       "    }\n",
       "\n",
       "  }\n",
       "\n",
       "  if (root._bokeh_is_loading === 0) {\n",
       "    console.debug(\"Bokeh: BokehJS loaded, going straight to plotting\");\n",
       "    run_inline_js();\n",
       "  } else {\n",
       "    load_libs(css_urls, js_urls, function() {\n",
       "      console.debug(\"Bokeh: BokehJS plotting callback run at\", now());\n",
       "      run_inline_js();\n",
       "    });\n",
       "  }\n",
       "}(window));"
      ],
      "application/vnd.bokehjs_load.v0+json": "\n(function(root) {\n  function now() {\n    return new Date();\n  }\n\n  const force = true;\n\n  if (typeof root._bokeh_onload_callbacks === \"undefined\" || force === true) {\n    root._bokeh_onload_callbacks = [];\n    root._bokeh_is_loading = undefined;\n  }\n\n  \n\n  \n  if (typeof (root._bokeh_timeout) === \"undefined\" || force === true) {\n    root._bokeh_timeout = Date.now() + 5000;\n    root._bokeh_failed_load = false;\n  }\n\n  const NB_LOAD_WARNING = {'data': {'text/html':\n     \"<div style='background-color: #fdd'>\\n\"+\n     \"<p>\\n\"+\n     \"BokehJS does not appear to have successfully loaded. If loading BokehJS from CDN, this \\n\"+\n     \"may be due to a slow or bad network connection. Possible fixes:\\n\"+\n     \"</p>\\n\"+\n     \"<ul>\\n\"+\n     \"<li>re-rerun `output_notebook()` to attempt to load from CDN again, or</li>\\n\"+\n     \"<li>use INLINE resources instead, as so:</li>\\n\"+\n     \"</ul>\\n\"+\n     \"<code>\\n\"+\n     \"from bokeh.resources import INLINE\\n\"+\n     \"output_notebook(resources=INLINE)\\n\"+\n     \"</code>\\n\"+\n     \"</div>\"}};\n\n  function display_loaded() {\n    const el = document.getElementById(\"176502\");\n    if (el != null) {\n      el.textContent = \"BokehJS is loading...\";\n    }\n    if (root.Bokeh !== undefined) {\n      if (el != null) {\n        el.textContent = \"BokehJS \" + root.Bokeh.version + \" successfully loaded.\";\n      }\n    } else if (Date.now() < root._bokeh_timeout) {\n      setTimeout(display_loaded, 100)\n    }\n  }\n\n\n  function run_callbacks() {\n    try {\n      root._bokeh_onload_callbacks.forEach(function(callback) {\n        if (callback != null)\n          callback();\n      });\n    } finally {\n      delete root._bokeh_onload_callbacks\n    }\n    console.debug(\"Bokeh: all callbacks have finished\");\n  }\n\n  function load_libs(css_urls, js_urls, callback) {\n    if (css_urls == null) css_urls = [];\n    if (js_urls == null) js_urls = [];\n\n    root._bokeh_onload_callbacks.push(callback);\n    if (root._bokeh_is_loading > 0) {\n      console.debug(\"Bokeh: BokehJS is being loaded, scheduling callback at\", now());\n      return null;\n    }\n    if (js_urls == null || js_urls.length === 0) {\n      run_callbacks();\n      return null;\n    }\n    console.debug(\"Bokeh: BokehJS not loaded, scheduling load and callback at\", now());\n    root._bokeh_is_loading = css_urls.length + js_urls.length;\n\n    function on_load() {\n      root._bokeh_is_loading--;\n      if (root._bokeh_is_loading === 0) {\n        console.debug(\"Bokeh: all BokehJS libraries/stylesheets loaded\");\n        run_callbacks()\n      }\n    }\n\n    function on_error(url) {\n      console.error(\"failed to load \" + url);\n    }\n\n    for (let i = 0; i < css_urls.length; i++) {\n      const url = css_urls[i];\n      const element = document.createElement(\"link\");\n      element.onload = on_load;\n      element.onerror = on_error.bind(null, url);\n      element.rel = \"stylesheet\";\n      element.type = \"text/css\";\n      element.href = url;\n      console.debug(\"Bokeh: injecting link tag for BokehJS stylesheet: \", url);\n      document.body.appendChild(element);\n    }\n\n    for (let i = 0; i < js_urls.length; i++) {\n      const url = js_urls[i];\n      const element = document.createElement('script');\n      element.onload = on_load;\n      element.onerror = on_error.bind(null, url);\n      element.async = false;\n      element.src = url;\n      console.debug(\"Bokeh: injecting script tag for BokehJS library: \", url);\n      document.head.appendChild(element);\n    }\n  };\n\n  function inject_raw_css(css) {\n    const element = document.createElement(\"style\");\n    element.appendChild(document.createTextNode(css));\n    document.body.appendChild(element);\n  }\n\n  \n  const js_urls = [\"https://cdn.bokeh.org/bokeh/release/bokeh-2.4.2.min.js\", \"https://cdn.bokeh.org/bokeh/release/bokeh-gl-2.4.2.min.js\", \"https://cdn.bokeh.org/bokeh/release/bokeh-widgets-2.4.2.min.js\", \"https://cdn.bokeh.org/bokeh/release/bokeh-tables-2.4.2.min.js\", \"https://cdn.bokeh.org/bokeh/release/bokeh-mathjax-2.4.2.min.js\"];\n  const css_urls = [];\n  \n\n  const inline_js = [\n    function(Bokeh) {\n      Bokeh.set_log_level(\"info\");\n    },\n    function(Bokeh) {\n    \n    \n    }\n  ];\n\n  function run_inline_js() {\n    \n    if (root.Bokeh !== undefined || force === true) {\n      \n    for (let i = 0; i < inline_js.length; i++) {\n      inline_js[i].call(root, root.Bokeh);\n    }\n    if (force === true) {\n        display_loaded();\n      }} else if (Date.now() < root._bokeh_timeout) {\n      setTimeout(run_inline_js, 100);\n    } else if (!root._bokeh_failed_load) {\n      console.log(\"Bokeh: BokehJS failed to load within specified timeout.\");\n      root._bokeh_failed_load = true;\n    } else if (force !== true) {\n      const cell = $(document.getElementById(\"176502\")).parents('.cell').data().cell;\n      cell.output_area.append_execute_result(NB_LOAD_WARNING)\n    }\n\n  }\n\n  if (root._bokeh_is_loading === 0) {\n    console.debug(\"Bokeh: BokehJS loaded, going straight to plotting\");\n    run_inline_js();\n  } else {\n    load_libs(css_urls, js_urls, function() {\n      console.debug(\"Bokeh: BokehJS plotting callback run at\", now());\n      run_inline_js();\n    });\n  }\n}(window));"
     },
     "metadata": {},
     "output_type": "display_data"
    }
   ],
   "source": [
    "from bokeh.layouts import gridplot, column, row\n",
    "from bokeh.models import ColumnDataSource, Label, LabelSet, Range1d, DateRangeSlider, CustomJS\n",
    "from bokeh.models import CDSView, IndexFilter, BooleanFilter\n",
    "from bokeh.plotting import figure, output_notebook, show\n",
    "\n",
    "output_notebook()\n",
    "\n",
    "def draw_lineplot(source, title, width, height, color=\"#1b1b1b\", by='instagram'):\n",
    "    assert by in ['instagram', 'facebook', 'youtube', 'article']\n",
    "    \n",
    "    date_key = 'Date'\n",
    "    count_key = by + '_Counts'\n",
    "    text_key = by + '_Texts'\n",
    "    \n",
    "#     booleans = [False if np.isnan(y_val) else True for y_val in source.data[count_key]]\n",
    "#     view = CDSView(source=source, filters=[BooleanFilter(booleans)])\n",
    "    \n",
    "    p = figure(width=width, height=height, x_axis_type='datetime')\n",
    "    \n",
    "    p.title.text = title\n",
    "    p.title.vertical_align = 'top'\n",
    "    p.title.text_line_height = 0.1\n",
    "\n",
    "    p.title.align = 'center'\n",
    "    p.title.text_color = color\n",
    "    p.title.text_font_size = \"15px\"\n",
    "    p.title_location = 'above'\n",
    "    \n",
    "    p.grid.grid_line_color = 'white'\n",
    "    p.xaxis.axis_line_color = color\n",
    "    p.yaxis.axis_line_color = color\n",
    "    \n",
    "    lineplot = p.line(date_key, count_key, source=source, line_width=2, color=color, alpha=0.4)\n",
    "    circle_plot = p.circle(date_key, count_key, source=source, fill_color='white', size=8)\n",
    "\n",
    "    labels = LabelSet(x=date_key, y=count_key, text=text_key,\n",
    "                  x_offset=0, y_offset=10, source=source, render_mode='css')\n",
    "    \n",
    "    p.add_layout(labels)\n",
    "    return p"
   ]
  },
  {
   "cell_type": "code",
   "execution_count": 174,
   "metadata": {},
   "outputs": [],
   "source": [
    "callback = CustomJS(args=dict(source=source, ref_source=source2), code=\"\"\"\n",
    "    const date_from = Date.parse(new Date(cb_obj.value[0]).toISOString());\n",
    "    const date_to = Date.parse(new Date(cb_obj.value[1]).toISOString());\n",
    "    \n",
    "    const data = source.data;\n",
    "    const ref = ref_source.data;\n",
    "    \n",
    "    const from_pos = ref[\"Date\"].indexOf(date_from);\n",
    "    const to_pos = ref[\"Date\"].indexOf(date_to) + 1;\n",
    "    \n",
    "    const names = ['youtube', 'facebook', 'instagram', 'article'];\n",
    "    \n",
    "    for (let i=0; i<names.length; i++){\n",
    "        let name = names[i];\n",
    "        let count_name = name + '_Counts';\n",
    "        let text_name = name + '_Texts';\n",
    "        \n",
    "        data[count_name] = ref[count_name].slice(from_pos, to_pos);\n",
    "        data[text_name] = ref[text_name].slice(from_pos, to_pos);\n",
    "    }\n",
    "\n",
    "    source.change.emit();\n",
    "    \"\"\")"
   ]
  },
  {
   "cell_type": "code",
   "execution_count": 146,
   "metadata": {},
   "outputs": [],
   "source": [
    "real_e_date = e_date - timedelta(days=1)"
   ]
  },
  {
   "cell_type": "code",
   "execution_count": 147,
   "metadata": {},
   "outputs": [
    {
     "data": {
      "text/plain": [
       "datetime.datetime(2021, 11, 17, 0, 0)"
      ]
     },
     "execution_count": 147,
     "metadata": {},
     "output_type": "execute_result"
    }
   ],
   "source": [
    "d_range.start"
   ]
  },
  {
   "cell_type": "code",
   "execution_count": 153,
   "metadata": {},
   "outputs": [],
   "source": [
    "from bokeh.models import Title"
   ]
  },
  {
   "cell_type": "code",
   "execution_count": 155,
   "metadata": {},
   "outputs": [],
   "source": [
    "t = Title()"
   ]
  },
  {
   "cell_type": "code",
   "execution_count": 175,
   "metadata": {},
   "outputs": [],
   "source": [
    "t.text = 'aa'"
   ]
  },
  {
   "cell_type": "code",
   "execution_count": 310,
   "metadata": {},
   "outputs": [
    {
     "data": {
      "text/html": [
       "\n",
       "\n",
       "\n",
       "\n",
       "\n",
       "\n",
       "  <div class=\"bk-root\" id=\"99c67dbb-e708-4673-9437-4782f5673835\" data-root-id=\"551392\"></div>\n"
      ]
     },
     "metadata": {},
     "output_type": "display_data"
    },
    {
     "data": {
      "application/javascript": [
       "(function(root) {\n",
       "  function embed_document(root) {\n",
       "    \n",
       "  const docs_json = {\"fd4185fb-7ad6-4774-8166-c8022ad0be87\":{\"defs\":[],\"roots\":{\"references\":[{\"attributes\":{\"children\":[{\"id\":\"551388\"},{\"id\":\"551390\"},{\"id\":\"551391\"}]},\"id\":\"551392\",\"type\":\"Column\"},{\"attributes\":{\"below\":[{\"id\":\"551295\"}],\"center\":[{\"id\":\"551298\"},{\"id\":\"551302\"},{\"id\":\"551335\"}],\"height\":300,\"left\":[{\"id\":\"551299\"}],\"renderers\":[{\"id\":\"551327\"},{\"id\":\"551333\"}],\"title\":{\"id\":\"551317\"},\"toolbar\":{\"id\":\"551310\"},\"width\":500,\"x_range\":{\"id\":\"551185\"},\"x_scale\":{\"id\":\"551291\"},\"y_range\":{\"id\":\"551289\"},\"y_scale\":{\"id\":\"551293\"}},\"id\":\"551286\",\"subtype\":\"Figure\",\"type\":\"Plot\"},{\"attributes\":{\"num_minor_ticks\":5,\"tickers\":[{\"id\":\"558155\"},{\"id\":\"558156\"},{\"id\":\"558157\"},{\"id\":\"558158\"},{\"id\":\"558159\"},{\"id\":\"558160\"},{\"id\":\"558161\"},{\"id\":\"558162\"},{\"id\":\"558163\"},{\"id\":\"558164\"},{\"id\":\"558165\"},{\"id\":\"558166\"}]},\"id\":\"551245\",\"type\":\"DatetimeTicker\"},{\"attributes\":{},\"id\":\"551257\",\"type\":\"HelpTool\"},{\"attributes\":{\"tools\":[{\"id\":\"551201\"},{\"id\":\"551202\"},{\"id\":\"551203\"},{\"id\":\"551204\"},{\"id\":\"551205\"},{\"id\":\"551206\"}]},\"id\":\"551208\",\"type\":\"Toolbar\"},{\"attributes\":{},\"id\":\"551252\",\"type\":\"PanTool\"},{\"attributes\":{},\"id\":\"551357\",\"type\":\"SaveTool\"},{\"attributes\":{},\"id\":\"558166\",\"type\":\"YearsTicker\"},{\"attributes\":{\"fill_alpha\":{\"value\":0.2},\"fill_color\":{\"value\":\"white\"},\"hatch_alpha\":{\"value\":0.2},\"line_alpha\":{\"value\":0.2},\"line_color\":{\"value\":\"#1f77b4\"},\"size\":{\"value\":8},\"x\":{\"field\":\"Date\"},\"y\":{\"field\":\"facebook_Counts\"}},\"id\":\"551230\",\"type\":\"Circle\"},{\"attributes\":{},\"id\":\"551253\",\"type\":\"WheelZoomTool\"},{\"attributes\":{},\"id\":\"551344\",\"type\":\"LinearScale\"},{\"attributes\":{\"days\":[1,8,15,22]},\"id\":\"558160\",\"type\":\"DaysTicker\"},{\"attributes\":{},\"id\":\"551242\",\"type\":\"LinearScale\"},{\"attributes\":{},\"id\":\"551206\",\"type\":\"HelpTool\"},{\"attributes\":{\"tools\":[{\"id\":\"551354\"},{\"id\":\"551355\"},{\"id\":\"551356\"},{\"id\":\"551357\"},{\"id\":\"551358\"},{\"id\":\"551359\"}]},\"id\":\"551361\",\"type\":\"Toolbar\"},{\"attributes\":{\"fill_color\":{\"value\":\"white\"},\"line_color\":{\"value\":\"#1f77b4\"},\"size\":{\"value\":8},\"x\":{\"field\":\"Date\"},\"y\":{\"field\":\"facebook_Counts\"}},\"id\":\"551228\",\"type\":\"Circle\"},{\"attributes\":{\"fill_color\":{\"value\":\"white\"},\"line_color\":{\"value\":\"#1f77b4\"},\"size\":{\"value\":8},\"x\":{\"field\":\"Date\"},\"y\":{\"field\":\"article_Counts\"}},\"id\":\"551381\",\"type\":\"Circle\"},{\"attributes\":{},\"id\":\"551240\",\"type\":\"LinearScale\"},{\"attributes\":{\"line_alpha\":0.2,\"line_color\":\"#3b5998\",\"line_width\":2,\"x\":{\"field\":\"Date\"},\"y\":{\"field\":\"facebook_Counts\"}},\"id\":\"551224\",\"type\":\"Line\"},{\"attributes\":{\"line_alpha\":0.4,\"line_color\":\"#3b5998\",\"line_width\":2,\"x\":{\"field\":\"Date\"},\"y\":{\"field\":\"facebook_Counts\"}},\"id\":\"551222\",\"type\":\"Line\"},{\"attributes\":{\"coordinates\":null,\"data_source\":{\"id\":\"42775\"},\"glyph\":{\"id\":\"551381\"},\"group\":null,\"hover_glyph\":null,\"muted_glyph\":{\"id\":\"551383\"},\"nonselection_glyph\":{\"id\":\"551382\"},\"view\":{\"id\":\"551385\"}},\"id\":\"551384\",\"type\":\"GlyphRenderer\"},{\"attributes\":{\"source\":{\"id\":\"42775\"}},\"id\":\"551226\",\"type\":\"CDSView\"},{\"attributes\":{\"line_alpha\":0.2,\"line_color\":\"#000080\",\"line_width\":2,\"x\":{\"field\":\"Date\"},\"y\":{\"field\":\"article_Counts\"}},\"id\":\"551377\",\"type\":\"Line\"},{\"attributes\":{\"bottom_units\":\"screen\",\"coordinates\":null,\"fill_alpha\":0.5,\"fill_color\":\"lightgrey\",\"group\":null,\"left_units\":\"screen\",\"level\":\"overlay\",\"line_alpha\":1.0,\"line_color\":\"black\",\"line_dash\":[4,4],\"line_width\":2,\"right_units\":\"screen\",\"syncable\":false,\"top_units\":\"screen\"},\"id\":\"551207\",\"type\":\"BoxAnnotation\"},{\"attributes\":{\"coordinates\":null,\"group\":null,\"render_mode\":\"css\",\"source\":{\"id\":\"42775\"},\"text\":{\"field\":\"facebook_Texts\"},\"x\":{\"field\":\"Date\"},\"y\":{\"field\":\"facebook_Counts\"},\"y_offset\":{\"value\":10}},\"id\":\"551233\",\"type\":\"LabelSet\"},{\"attributes\":{},\"id\":\"558137\",\"type\":\"AllLabels\"},{\"attributes\":{\"mantissas\":[1,2,5],\"max_interval\":500.0,\"num_minor_ticks\":0},\"id\":\"558142\",\"type\":\"AdaptiveTicker\"},{\"attributes\":{},\"id\":\"551249\",\"type\":\"BasicTicker\"},{\"attributes\":{\"bottom_units\":\"screen\",\"coordinates\":null,\"fill_alpha\":0.5,\"fill_color\":\"lightgrey\",\"group\":null,\"left_units\":\"screen\",\"level\":\"overlay\",\"line_alpha\":1.0,\"line_color\":\"black\",\"line_dash\":[4,4],\"line_width\":2,\"right_units\":\"screen\",\"syncable\":false,\"top_units\":\"screen\"},\"id\":\"551309\",\"type\":\"BoxAnnotation\"},{\"attributes\":{\"data\":{\"Date\":{\"__ndarray__\":\"AAAAF7PSd0IAAMB8BdN3QgAAgOJX03dCAABASKrTd0IAAACu/NN3QgAAwBNP1HdCAACAeaHUd0I=\",\"dtype\":\"float64\",\"order\":\"little\",\"shape\":[7]},\"article_Counts\":{\"__ndarray__\":\"AAAAAAAA+H8AAAAAAAAiQAAAAAAAABxAAAAAAAAAFEAAAAAAAAA1QAAAAAAAAEtAAAAAAACATkA=\",\"dtype\":\"float64\",\"order\":\"little\",\"shape\":[7]},\"article_Texts\":[\"\",\"9\",\"7\",\"5\",\"21\",\"54\",\"61\"],\"facebook_Counts\":[554,555,557,561,566,569,576],\"facebook_Texts\":[\"554\",\"555\",\"557\",\"561\",\"566\",\"569\",\"576\"],\"index\":[0,1,2,3,4,5,6],\"instagram_Counts\":[1518,1579,1641,1703,1765,1827,1889],\"instagram_Texts\":[\"1518\",\"1579\",\"1641\",\"1703\",\"1765\",\"1827\",\"1889\"],\"youtube_Counts\":{\"__ndarray__\":\"AAAAAAAtsEAAAAAAAFWwQAAAAAAAhbBAAAAAAAC9sEAAAAAAAOKwQAAAAAAA/rBAAAAAAAAA+H8=\",\"dtype\":\"float64\",\"order\":\"little\",\"shape\":[7]},\"youtube_Texts\":[\"4141\",\"4181\",\"4229\",\"4285\",\"4322\",\"4350\",\"\"]},\"selected\":{\"id\":\"42780\"},\"selection_policy\":{\"id\":\"42779\"}},\"id\":\"42775\",\"type\":\"ColumnDataSource\"},{\"attributes\":{},\"id\":\"551202\",\"type\":\"WheelZoomTool\"},{\"attributes\":{},\"id\":\"551359\",\"type\":\"HelpTool\"},{\"attributes\":{\"days\":[1,4,7,10,13,16,19,22,25,28]},\"id\":\"558159\",\"type\":\"DaysTicker\"},{\"attributes\":{\"months\":[0,4,8]},\"id\":\"558164\",\"type\":\"MonthsTicker\"},{\"attributes\":{\"fill_alpha\":{\"value\":0.2},\"fill_color\":{\"value\":\"white\"},\"hatch_alpha\":{\"value\":0.2},\"line_alpha\":{\"value\":0.2},\"line_color\":{\"value\":\"#1f77b4\"},\"size\":{\"value\":8},\"x\":{\"field\":\"Date\"},\"y\":{\"field\":\"youtube_Counts\"}},\"id\":\"551332\",\"type\":\"Circle\"},{\"attributes\":{},\"id\":\"551255\",\"type\":\"SaveTool\"},{\"attributes\":{\"months\":[0,6]},\"id\":\"558165\",\"type\":\"MonthsTicker\"},{\"attributes\":{\"source\":{\"id\":\"42775\"}},\"id\":\"551283\",\"type\":\"CDSView\"},{\"attributes\":{\"axis\":{\"id\":\"551299\"},\"coordinates\":null,\"dimension\":1,\"grid_line_color\":\"white\",\"group\":null,\"ticker\":null},\"id\":\"551302\",\"type\":\"Grid\"},{\"attributes\":{\"months\":[0,1,2,3,4,5,6,7,8,9,10,11]},\"id\":\"558162\",\"type\":\"MonthsTicker\"},{\"attributes\":{\"months\":[0,2,4,6,8,10]},\"id\":\"558163\",\"type\":\"MonthsTicker\"},{\"attributes\":{\"axis\":{\"id\":\"551248\"},\"coordinates\":null,\"dimension\":1,\"grid_line_color\":\"white\",\"group\":null,\"ticker\":null},\"id\":\"551251\",\"type\":\"Grid\"},{\"attributes\":{\"base\":60,\"mantissas\":[1,2,5,10,15,20,30],\"max_interval\":1800000.0,\"min_interval\":1000.0,\"num_minor_ticks\":0},\"id\":\"558143\",\"type\":\"AdaptiveTicker\"},{\"attributes\":{\"axis_line_color\":\"#000080\",\"coordinates\":null,\"formatter\":{\"id\":\"558136\"},\"group\":null,\"major_label_policy\":{\"id\":\"558137\"},\"ticker\":{\"id\":\"551351\"}},\"id\":\"551350\",\"type\":\"LinearAxis\"},{\"attributes\":{},\"id\":\"551201\",\"type\":\"PanTool\"},{\"attributes\":{},\"id\":\"558140\",\"type\":\"AllLabels\"},{\"attributes\":{\"base\":24,\"mantissas\":[1,2,4,6,8,12],\"max_interval\":43200000.0,\"min_interval\":3600000.0,\"num_minor_ticks\":0},\"id\":\"558157\",\"type\":\"AdaptiveTicker\"},{\"attributes\":{\"end\":1637625600000.0,\"format\":\"%Y/%m/%d\",\"js_property_callbacks\":{\"change:value\":[{\"id\":\"230625\"}]},\"start\":1637107200000.0,\"step\":86400000,\"title\":\"\\uc870\\ud68c \\uae30\\uac04\",\"value\":[1637107200000.0,1637625600000.0]},\"id\":\"551388\",\"type\":\"DateRangeSlider\"},{\"attributes\":{},\"id\":\"45066\",\"type\":\"Selection\"},{\"attributes\":{},\"id\":\"551351\",\"type\":\"BasicTicker\"},{\"attributes\":{},\"id\":\"558136\",\"type\":\"BasicTickFormatter\"},{\"attributes\":{},\"id\":\"551204\",\"type\":\"SaveTool\"},{\"attributes\":{},\"id\":\"551354\",\"type\":\"PanTool\"},{\"attributes\":{},\"id\":\"42780\",\"type\":\"Selection\"},{\"attributes\":{},\"id\":\"551256\",\"type\":\"ResetTool\"},{\"attributes\":{\"source\":{\"id\":\"42775\"}},\"id\":\"551379\",\"type\":\"CDSView\"},{\"attributes\":{},\"id\":\"551238\",\"type\":\"DataRange1d\"},{\"attributes\":{\"num_minor_ticks\":5,\"tickers\":[{\"id\":\"558168\"},{\"id\":\"558169\"},{\"id\":\"558170\"},{\"id\":\"558171\"},{\"id\":\"558172\"},{\"id\":\"558173\"},{\"id\":\"558174\"},{\"id\":\"558175\"},{\"id\":\"558176\"},{\"id\":\"558177\"},{\"id\":\"558178\"},{\"id\":\"558179\"}]},\"id\":\"551296\",\"type\":\"DatetimeTicker\"},{\"attributes\":{},\"id\":\"551300\",\"type\":\"BasicTicker\"},{\"attributes\":{\"overlay\":{\"id\":\"551258\"}},\"id\":\"551254\",\"type\":\"BoxZoomTool\"},{\"attributes\":{},\"id\":\"551291\",\"type\":\"LinearScale\"},{\"attributes\":{\"base\":60,\"mantissas\":[1,2,5,10,15,20,30],\"max_interval\":1800000.0,\"min_interval\":1000.0,\"num_minor_ticks\":0},\"id\":\"558156\",\"type\":\"AdaptiveTicker\"},{\"attributes\":{\"axis\":{\"id\":\"551244\"},\"coordinates\":null,\"grid_line_color\":\"white\",\"group\":null,\"ticker\":null},\"id\":\"551247\",\"type\":\"Grid\"},{\"attributes\":{},\"id\":\"551303\",\"type\":\"PanTool\"},{\"attributes\":{\"coordinates\":null,\"group\":null,\"render_mode\":\"css\",\"source\":{\"id\":\"42775\"},\"text\":{\"field\":\"instagram_Texts\"},\"x\":{\"field\":\"Date\"},\"y\":{\"field\":\"instagram_Counts\"},\"y_offset\":{\"value\":10}},\"id\":\"551284\",\"type\":\"LabelSet\"},{\"attributes\":{\"days\":[1,2,3,4,5,6,7,8,9,10,11,12,13,14,15,16,17,18,19,20,21,22,23,24,25,26,27,28,29,30,31]},\"id\":\"558158\",\"type\":\"DaysTicker\"},{\"attributes\":{},\"id\":\"551304\",\"type\":\"WheelZoomTool\"},{\"attributes\":{\"source\":{\"id\":\"42775\"}},\"id\":\"551385\",\"type\":\"CDSView\"},{\"attributes\":{\"align\":\"center\",\"coordinates\":null,\"group\":null,\"text\":\"\\ud398\\uc774\\uc2a4\\ubd81\",\"text_color\":\"#3b5998\",\"text_font_size\":\"15px\",\"text_line_height\":0.1,\"vertical_align\":\"top\"},\"id\":\"551215\",\"type\":\"Title\"},{\"attributes\":{\"overlay\":{\"id\":\"551309\"}},\"id\":\"551305\",\"type\":\"BoxZoomTool\"},{\"attributes\":{\"axis_line_color\":\"#c4302b\",\"coordinates\":null,\"formatter\":{\"id\":\"558133\"},\"group\":null,\"major_label_policy\":{\"id\":\"558134\"},\"ticker\":{\"id\":\"551296\"}},\"id\":\"551295\",\"type\":\"DatetimeAxis\"},{\"attributes\":{\"line_alpha\":0.4,\"line_color\":\"#000080\",\"line_width\":2,\"x\":{\"field\":\"Date\"},\"y\":{\"field\":\"article_Counts\"}},\"id\":\"551375\",\"type\":\"Line\"},{\"attributes\":{\"mantissas\":[1,2,5],\"max_interval\":500.0,\"num_minor_ticks\":0},\"id\":\"558155\",\"type\":\"AdaptiveTicker\"},{\"attributes\":{\"data\":{\"Date\":{\"__ndarray__\":\"AAAAF7PSd0IAAMB8BdN3QgAAgOJX03dCAABASKrTd0IAAACu/NN3QgAAwBNP1HdCAACAeaHUd0I=\",\"dtype\":\"float64\",\"order\":\"little\",\"shape\":[7]},\"article_Counts\":{\"__ndarray__\":\"AAAAAAAA+H8AAAAAAAAiQAAAAAAAABxAAAAAAAAAFEAAAAAAAAA1QAAAAAAAAEtAAAAAAACATkA=\",\"dtype\":\"float64\",\"order\":\"little\",\"shape\":[7]},\"article_Texts\":[\"\",\"9\",\"7\",\"5\",\"21\",\"54\",\"61\"],\"facebook_Counts\":[554,555,557,561,566,569,576],\"facebook_Texts\":[\"554\",\"555\",\"557\",\"561\",\"566\",\"569\",\"576\"],\"index\":[0,1,2,3,4,5,6],\"instagram_Counts\":[1518,1579,1641,1703,1765,1827,1889],\"instagram_Texts\":[\"1518\",\"1579\",\"1641\",\"1703\",\"1765\",\"1827\",\"1889\"],\"youtube_Counts\":{\"__ndarray__\":\"AAAAAAAtsEAAAAAAAFWwQAAAAAAAhbBAAAAAAAC9sEAAAAAAAOKwQAAAAAAA/rBAAAAAAAAA+H8=\",\"dtype\":\"float64\",\"order\":\"little\",\"shape\":[7]},\"youtube_Texts\":[\"4141\",\"4181\",\"4229\",\"4285\",\"4322\",\"4350\",\"\"]},\"selected\":{\"id\":\"45066\"},\"selection_policy\":{\"id\":\"45065\"}},\"id\":\"42776\",\"type\":\"ColumnDataSource\"},{\"attributes\":{\"num_minor_ticks\":5,\"tickers\":[{\"id\":\"558181\"},{\"id\":\"558182\"},{\"id\":\"558183\"},{\"id\":\"558184\"},{\"id\":\"558185\"},{\"id\":\"558186\"},{\"id\":\"558187\"},{\"id\":\"558188\"},{\"id\":\"558189\"},{\"id\":\"558190\"},{\"id\":\"558191\"},{\"id\":\"558192\"}]},\"id\":\"551347\",\"type\":\"DatetimeTicker\"},{\"attributes\":{\"days\":[1,15]},\"id\":\"558161\",\"type\":\"DaysTicker\"},{\"attributes\":{\"axis\":{\"id\":\"551193\"},\"coordinates\":null,\"grid_line_color\":\"white\",\"group\":null,\"ticker\":null},\"id\":\"551196\",\"type\":\"Grid\"},{\"attributes\":{},\"id\":\"551355\",\"type\":\"WheelZoomTool\"},{\"attributes\":{},\"id\":\"551289\",\"type\":\"DataRange1d\"},{\"attributes\":{\"days\":[1,15]},\"id\":\"558148\",\"type\":\"DaysTicker\"},{\"attributes\":{\"axis\":{\"id\":\"551350\"},\"coordinates\":null,\"dimension\":1,\"grid_line_color\":\"white\",\"group\":null,\"ticker\":null},\"id\":\"551353\",\"type\":\"Grid\"},{\"attributes\":{\"axis_line_color\":\"#c4302b\",\"coordinates\":null,\"formatter\":{\"id\":\"558130\"},\"group\":null,\"major_label_policy\":{\"id\":\"558131\"},\"ticker\":{\"id\":\"551300\"}},\"id\":\"551299\",\"type\":\"LinearAxis\"},{\"attributes\":{\"children\":[{\"id\":\"551184\"},{\"id\":\"551235\"}]},\"id\":\"551390\",\"type\":\"Row\"},{\"attributes\":{\"axis\":{\"id\":\"551346\"},\"coordinates\":null,\"grid_line_color\":\"white\",\"group\":null,\"ticker\":null},\"id\":\"551349\",\"type\":\"Grid\"},{\"attributes\":{\"fill_alpha\":{\"value\":0.2},\"fill_color\":{\"value\":\"white\"},\"hatch_alpha\":{\"value\":0.2},\"line_alpha\":{\"value\":0.2},\"line_color\":{\"value\":\"#1f77b4\"},\"size\":{\"value\":8},\"x\":{\"field\":\"Date\"},\"y\":{\"field\":\"article_Counts\"}},\"id\":\"551383\",\"type\":\"Circle\"},{\"attributes\":{\"axis_line_color\":\"#FF7F00\",\"coordinates\":null,\"formatter\":{\"id\":\"558124\"},\"group\":null,\"major_label_policy\":{\"id\":\"558125\"},\"ticker\":{\"id\":\"551249\"}},\"id\":\"551248\",\"type\":\"LinearAxis\"},{\"attributes\":{\"days\":[1,2,3,4,5,6,7,8,9,10,11,12,13,14,15,16,17,18,19,20,21,22,23,24,25,26,27,28,29,30,31]},\"id\":\"558145\",\"type\":\"DaysTicker\"},{\"attributes\":{\"args\":{\"ref_source\":{\"id\":\"42776\"},\"source\":{\"id\":\"42775\"}},\"code\":\"\\n    const date_from = Date.parse(new Date(cb_obj.value[0]).toISOString());\\n    const date_to = Date.parse(new Date(cb_obj.value[1]).toISOString());\\n    \\n    const data = source.data;\\n    const ref = ref_source.data;\\n    \\n    const from_pos = ref[\\\"Date\\\"].indexOf(date_from);\\n    const to_pos = ref[\\\"Date\\\"].indexOf(date_to) + 1;\\n    \\n    const names = ['youtube', 'facebook', 'instagram', 'article'];\\n    \\n    for (let i=0; i<names.length; i++){\\n        let name = names[i];\\n        let count_name = name + '_Counts';\\n        let text_name = name + '_Texts';\\n        \\n        data[count_name] = ref[count_name].slice(from_pos, to_pos);\\n        data[text_name] = ref[text_name].slice(from_pos, to_pos);\\n    }\\n\\n    source.change.emit();\\n    \"},\"id\":\"230625\",\"type\":\"CustomJS\"},{\"attributes\":{\"coordinates\":null,\"data_source\":{\"id\":\"42775\"},\"glyph\":{\"id\":\"551228\"},\"group\":null,\"hover_glyph\":null,\"muted_glyph\":{\"id\":\"551230\"},\"nonselection_glyph\":{\"id\":\"551229\"},\"view\":{\"id\":\"551232\"}},\"id\":\"551231\",\"type\":\"GlyphRenderer\"},{\"attributes\":{},\"id\":\"551358\",\"type\":\"ResetTool\"},{\"attributes\":{},\"id\":\"558139\",\"type\":\"DatetimeTickFormatter\"},{\"attributes\":{},\"id\":\"558153\",\"type\":\"YearsTicker\"},{\"attributes\":{\"base\":24,\"mantissas\":[1,2,4,6,8,12],\"max_interval\":43200000.0,\"min_interval\":3600000.0,\"num_minor_ticks\":0},\"id\":\"558144\",\"type\":\"AdaptiveTicker\"},{\"attributes\":{\"line_alpha\":0.1,\"line_color\":\"#3b5998\",\"line_width\":2,\"x\":{\"field\":\"Date\"},\"y\":{\"field\":\"facebook_Counts\"}},\"id\":\"551223\",\"type\":\"Line\"},{\"attributes\":{\"overlay\":{\"id\":\"551207\"}},\"id\":\"551203\",\"type\":\"BoxZoomTool\"},{\"attributes\":{\"fill_alpha\":{\"value\":0.1},\"fill_color\":{\"value\":\"white\"},\"hatch_alpha\":{\"value\":0.1},\"line_alpha\":{\"value\":0.1},\"line_color\":{\"value\":\"#1f77b4\"},\"size\":{\"value\":8},\"x\":{\"field\":\"Date\"},\"y\":{\"field\":\"article_Counts\"}},\"id\":\"551382\",\"type\":\"Circle\"},{\"attributes\":{\"align\":\"center\",\"coordinates\":null,\"group\":null,\"text\":\"\\uc778\\uc2a4\\ud0c0\\uadf8\\ub7a8\",\"text_color\":\"#FF7F00\",\"text_font_size\":\"15px\",\"text_line_height\":0.1,\"vertical_align\":\"top\"},\"id\":\"551266\",\"type\":\"Title\"},{\"attributes\":{\"months\":[0,1,2,3,4,5,6,7,8,9,10,11]},\"id\":\"558149\",\"type\":\"MonthsTicker\"},{\"attributes\":{\"overlay\":{\"id\":\"551360\"}},\"id\":\"551356\",\"type\":\"BoxZoomTool\"},{\"attributes\":{\"days\":[1,4,7,10,13,16,19,22,25,28]},\"id\":\"558146\",\"type\":\"DaysTicker\"},{\"attributes\":{\"coordinates\":null,\"group\":null,\"render_mode\":\"css\",\"source\":{\"id\":\"42775\"},\"text\":{\"field\":\"article_Texts\"},\"x\":{\"field\":\"Date\"},\"y\":{\"field\":\"article_Counts\"},\"y_offset\":{\"value\":10}},\"id\":\"551386\",\"type\":\"LabelSet\"},{\"attributes\":{\"months\":[0,2,4,6,8,10]},\"id\":\"558150\",\"type\":\"MonthsTicker\"},{\"attributes\":{},\"id\":\"551205\",\"type\":\"ResetTool\"},{\"attributes\":{\"months\":[0,6]},\"id\":\"558152\",\"type\":\"MonthsTicker\"},{\"attributes\":{\"coordinates\":null,\"data_source\":{\"id\":\"42775\"},\"glyph\":{\"id\":\"551279\"},\"group\":null,\"hover_glyph\":null,\"muted_glyph\":{\"id\":\"551281\"},\"nonselection_glyph\":{\"id\":\"551280\"},\"view\":{\"id\":\"551283\"}},\"id\":\"551282\",\"type\":\"GlyphRenderer\"},{\"attributes\":{\"fill_alpha\":{\"value\":0.1},\"fill_color\":{\"value\":\"white\"},\"hatch_alpha\":{\"value\":0.1},\"line_alpha\":{\"value\":0.1},\"line_color\":{\"value\":\"#1f77b4\"},\"size\":{\"value\":8},\"x\":{\"field\":\"Date\"},\"y\":{\"field\":\"facebook_Counts\"}},\"id\":\"551229\",\"type\":\"Circle\"},{\"attributes\":{\"line_alpha\":0.1,\"line_color\":\"#000080\",\"line_width\":2,\"x\":{\"field\":\"Date\"},\"y\":{\"field\":\"article_Counts\"}},\"id\":\"551376\",\"type\":\"Line\"},{\"attributes\":{\"months\":[0,4,8]},\"id\":\"558151\",\"type\":\"MonthsTicker\"},{\"attributes\":{\"bottom_units\":\"screen\",\"coordinates\":null,\"fill_alpha\":0.5,\"fill_color\":\"lightgrey\",\"group\":null,\"left_units\":\"screen\",\"level\":\"overlay\",\"line_alpha\":1.0,\"line_color\":\"black\",\"line_dash\":[4,4],\"line_width\":2,\"right_units\":\"screen\",\"syncable\":false,\"top_units\":\"screen\"},\"id\":\"551360\",\"type\":\"BoxAnnotation\"},{\"attributes\":{\"axis_line_color\":\"#FF7F00\",\"coordinates\":null,\"formatter\":{\"id\":\"558127\"},\"group\":null,\"major_label_policy\":{\"id\":\"558128\"},\"ticker\":{\"id\":\"551245\"}},\"id\":\"551244\",\"type\":\"DatetimeAxis\"},{\"attributes\":{},\"id\":\"45065\",\"type\":\"UnionRenderers\"},{\"attributes\":{\"source\":{\"id\":\"42775\"}},\"id\":\"551232\",\"type\":\"CDSView\"},{\"attributes\":{\"axis_line_color\":\"#000080\",\"coordinates\":null,\"formatter\":{\"id\":\"558139\"},\"group\":null,\"major_label_policy\":{\"id\":\"558140\"},\"ticker\":{\"id\":\"551347\"}},\"id\":\"551346\",\"type\":\"DatetimeAxis\"},{\"attributes\":{\"align\":\"center\",\"coordinates\":null,\"group\":null,\"text\":\"\\uc720\\ud29c\\ube0c\",\"text_color\":\"#c4302b\",\"text_font_size\":\"15px\",\"text_line_height\":0.1,\"vertical_align\":\"top\"},\"id\":\"551317\",\"type\":\"Title\"},{\"attributes\":{\"days\":[1,8,15,22]},\"id\":\"558147\",\"type\":\"DaysTicker\"},{\"attributes\":{},\"id\":\"551293\",\"type\":\"LinearScale\"},{\"attributes\":{\"axis\":{\"id\":\"551295\"},\"coordinates\":null,\"grid_line_color\":\"white\",\"group\":null,\"ticker\":null},\"id\":\"551298\",\"type\":\"Grid\"},{\"attributes\":{\"below\":[{\"id\":\"551193\"}],\"center\":[{\"id\":\"551196\"},{\"id\":\"551200\"},{\"id\":\"551233\"}],\"height\":300,\"left\":[{\"id\":\"551197\"}],\"renderers\":[{\"id\":\"551225\"},{\"id\":\"551231\"}],\"title\":{\"id\":\"551215\"},\"toolbar\":{\"id\":\"551208\"},\"width\":500,\"x_range\":{\"id\":\"551185\"},\"x_scale\":{\"id\":\"551189\"},\"y_range\":{\"id\":\"551187\"},\"y_scale\":{\"id\":\"551191\"}},\"id\":\"551184\",\"subtype\":\"Figure\",\"type\":\"Plot\"},{\"attributes\":{},\"id\":\"558127\",\"type\":\"DatetimeTickFormatter\"},{\"attributes\":{\"align\":\"center\",\"coordinates\":null,\"group\":null,\"text\":\"\\uae30\\uc0ac\",\"text_color\":\"#000080\",\"text_font_size\":\"15px\",\"text_line_height\":0.1,\"vertical_align\":\"top\"},\"id\":\"551368\",\"type\":\"Title\"},{\"attributes\":{\"children\":[{\"id\":\"551286\"},{\"id\":\"551337\"}]},\"id\":\"551391\",\"type\":\"Row\"},{\"attributes\":{\"coordinates\":null,\"data_source\":{\"id\":\"42775\"},\"glyph\":{\"id\":\"551324\"},\"group\":null,\"hover_glyph\":null,\"muted_glyph\":{\"id\":\"551326\"},\"nonselection_glyph\":{\"id\":\"551325\"},\"view\":{\"id\":\"551328\"}},\"id\":\"551327\",\"type\":\"GlyphRenderer\"},{\"attributes\":{\"months\":[0,6]},\"id\":\"558178\",\"type\":\"MonthsTicker\"},{\"attributes\":{\"mantissas\":[1,2,5],\"max_interval\":500.0,\"num_minor_ticks\":0},\"id\":\"558168\",\"type\":\"AdaptiveTicker\"},{\"attributes\":{\"below\":[{\"id\":\"551346\"}],\"center\":[{\"id\":\"551349\"},{\"id\":\"551353\"},{\"id\":\"551386\"}],\"height\":300,\"left\":[{\"id\":\"551350\"}],\"renderers\":[{\"id\":\"551378\"},{\"id\":\"551384\"}],\"title\":{\"id\":\"551368\"},\"toolbar\":{\"id\":\"551361\"},\"width\":500,\"x_range\":{\"id\":\"551185\"},\"x_scale\":{\"id\":\"551342\"},\"y_range\":{\"id\":\"551340\"},\"y_scale\":{\"id\":\"551344\"}},\"id\":\"551337\",\"subtype\":\"Figure\",\"type\":\"Plot\"},{\"attributes\":{\"axis_line_color\":\"#3b5998\",\"coordinates\":null,\"formatter\":{\"id\":\"558118\"},\"group\":null,\"major_label_policy\":{\"id\":\"558119\"},\"ticker\":{\"id\":\"551198\"}},\"id\":\"551197\",\"type\":\"LinearAxis\"},{\"attributes\":{\"line_alpha\":0.1,\"line_color\":\"#c4302b\",\"line_width\":2,\"x\":{\"field\":\"Date\"},\"y\":{\"field\":\"youtube_Counts\"}},\"id\":\"551325\",\"type\":\"Line\"},{\"attributes\":{\"months\":[0,1,2,3,4,5,6,7,8,9,10,11]},\"id\":\"558175\",\"type\":\"MonthsTicker\"},{\"attributes\":{\"base\":24,\"mantissas\":[1,2,4,6,8,12],\"max_interval\":43200000.0,\"min_interval\":3600000.0,\"num_minor_ticks\":0},\"id\":\"558183\",\"type\":\"AdaptiveTicker\"},{\"attributes\":{},\"id\":\"42779\",\"type\":\"UnionRenderers\"},{\"attributes\":{\"coordinates\":null,\"data_source\":{\"id\":\"42775\"},\"glyph\":{\"id\":\"551273\"},\"group\":null,\"hover_glyph\":null,\"muted_glyph\":{\"id\":\"551275\"},\"nonselection_glyph\":{\"id\":\"551274\"},\"view\":{\"id\":\"551277\"}},\"id\":\"551276\",\"type\":\"GlyphRenderer\"},{\"attributes\":{\"num_minor_ticks\":5,\"tickers\":[{\"id\":\"558142\"},{\"id\":\"558143\"},{\"id\":\"558144\"},{\"id\":\"558145\"},{\"id\":\"558146\"},{\"id\":\"558147\"},{\"id\":\"558148\"},{\"id\":\"558149\"},{\"id\":\"558150\"},{\"id\":\"558151\"},{\"id\":\"558152\"},{\"id\":\"558153\"}]},\"id\":\"551194\",\"type\":\"DatetimeTicker\"},{\"attributes\":{},\"id\":\"558128\",\"type\":\"AllLabels\"},{\"attributes\":{\"tools\":[{\"id\":\"551252\"},{\"id\":\"551253\"},{\"id\":\"551254\"},{\"id\":\"551255\"},{\"id\":\"551256\"},{\"id\":\"551257\"}]},\"id\":\"551259\",\"type\":\"Toolbar\"},{\"attributes\":{\"line_alpha\":0.2,\"line_color\":\"#c4302b\",\"line_width\":2,\"x\":{\"field\":\"Date\"},\"y\":{\"field\":\"youtube_Counts\"}},\"id\":\"551326\",\"type\":\"Line\"},{\"attributes\":{},\"id\":\"551307\",\"type\":\"ResetTool\"},{\"attributes\":{},\"id\":\"558179\",\"type\":\"YearsTicker\"},{\"attributes\":{\"months\":[0,2,4,6,8,10]},\"id\":\"558189\",\"type\":\"MonthsTicker\"},{\"attributes\":{},\"id\":\"551340\",\"type\":\"DataRange1d\"},{\"attributes\":{\"days\":[1,2,3,4,5,6,7,8,9,10,11,12,13,14,15,16,17,18,19,20,21,22,23,24,25,26,27,28,29,30,31]},\"id\":\"558184\",\"type\":\"DaysTicker\"},{\"attributes\":{\"months\":[0,6]},\"id\":\"558191\",\"type\":\"MonthsTicker\"},{\"attributes\":{},\"id\":\"551342\",\"type\":\"LinearScale\"},{\"attributes\":{\"months\":[0,4,8]},\"id\":\"558177\",\"type\":\"MonthsTicker\"},{\"attributes\":{},\"id\":\"558131\",\"type\":\"AllLabels\"},{\"attributes\":{\"bottom_units\":\"screen\",\"coordinates\":null,\"fill_alpha\":0.5,\"fill_color\":\"lightgrey\",\"group\":null,\"left_units\":\"screen\",\"level\":\"overlay\",\"line_alpha\":1.0,\"line_color\":\"black\",\"line_dash\":[4,4],\"line_width\":2,\"right_units\":\"screen\",\"syncable\":false,\"top_units\":\"screen\"},\"id\":\"551258\",\"type\":\"BoxAnnotation\"},{\"attributes\":{\"line_alpha\":0.4,\"line_color\":\"#FF7F00\",\"line_width\":2,\"x\":{\"field\":\"Date\"},\"y\":{\"field\":\"instagram_Counts\"}},\"id\":\"551273\",\"type\":\"Line\"},{\"attributes\":{\"line_alpha\":0.2,\"line_color\":\"#FF7F00\",\"line_width\":2,\"x\":{\"field\":\"Date\"},\"y\":{\"field\":\"instagram_Counts\"}},\"id\":\"551275\",\"type\":\"Line\"},{\"attributes\":{\"tools\":[{\"id\":\"551303\"},{\"id\":\"551304\"},{\"id\":\"551305\"},{\"id\":\"551306\"},{\"id\":\"551307\"},{\"id\":\"551308\"}]},\"id\":\"551310\",\"type\":\"Toolbar\"},{\"attributes\":{},\"id\":\"558119\",\"type\":\"AllLabels\"},{\"attributes\":{\"source\":{\"id\":\"42775\"}},\"id\":\"551334\",\"type\":\"CDSView\"},{\"attributes\":{\"axis\":{\"id\":\"551197\"},\"coordinates\":null,\"dimension\":1,\"grid_line_color\":\"white\",\"group\":null,\"ticker\":null},\"id\":\"551200\",\"type\":\"Grid\"},{\"attributes\":{},\"id\":\"551191\",\"type\":\"LinearScale\"},{\"attributes\":{},\"id\":\"551198\",\"type\":\"BasicTicker\"},{\"attributes\":{\"mantissas\":[1,2,5],\"max_interval\":500.0,\"num_minor_ticks\":0},\"id\":\"558181\",\"type\":\"AdaptiveTicker\"},{\"attributes\":{},\"id\":\"558125\",\"type\":\"AllLabels\"},{\"attributes\":{},\"id\":\"551189\",\"type\":\"LinearScale\"},{\"attributes\":{\"axis_line_color\":\"#3b5998\",\"coordinates\":null,\"formatter\":{\"id\":\"558121\"},\"group\":null,\"major_label_policy\":{\"id\":\"558122\"},\"ticker\":{\"id\":\"551194\"}},\"id\":\"551193\",\"type\":\"DatetimeAxis\"},{\"attributes\":{\"coordinates\":null,\"data_source\":{\"id\":\"42775\"},\"glyph\":{\"id\":\"551375\"},\"group\":null,\"hover_glyph\":null,\"muted_glyph\":{\"id\":\"551377\"},\"nonselection_glyph\":{\"id\":\"551376\"},\"view\":{\"id\":\"551379\"}},\"id\":\"551378\",\"type\":\"GlyphRenderer\"},{\"attributes\":{\"fill_alpha\":{\"value\":0.1},\"fill_color\":{\"value\":\"white\"},\"hatch_alpha\":{\"value\":0.1},\"line_alpha\":{\"value\":0.1},\"line_color\":{\"value\":\"#1f77b4\"},\"size\":{\"value\":8},\"x\":{\"field\":\"Date\"},\"y\":{\"field\":\"instagram_Counts\"}},\"id\":\"551280\",\"type\":\"Circle\"},{\"attributes\":{\"months\":[0,2,4,6,8,10]},\"id\":\"558176\",\"type\":\"MonthsTicker\"},{\"attributes\":{\"fill_alpha\":{\"value\":0.1},\"fill_color\":{\"value\":\"white\"},\"hatch_alpha\":{\"value\":0.1},\"line_alpha\":{\"value\":0.1},\"line_color\":{\"value\":\"#1f77b4\"},\"size\":{\"value\":8},\"x\":{\"field\":\"Date\"},\"y\":{\"field\":\"youtube_Counts\"}},\"id\":\"551331\",\"type\":\"Circle\"},{\"attributes\":{\"days\":[1,8,15,22]},\"id\":\"558173\",\"type\":\"DaysTicker\"},{\"attributes\":{\"base\":60,\"mantissas\":[1,2,5,10,15,20,30],\"max_interval\":1800000.0,\"min_interval\":1000.0,\"num_minor_ticks\":0},\"id\":\"558182\",\"type\":\"AdaptiveTicker\"},{\"attributes\":{\"fill_color\":{\"value\":\"white\"},\"line_color\":{\"value\":\"#1f77b4\"},\"size\":{\"value\":8},\"x\":{\"field\":\"Date\"},\"y\":{\"field\":\"instagram_Counts\"}},\"id\":\"551279\",\"type\":\"Circle\"},{\"attributes\":{\"line_alpha\":0.1,\"line_color\":\"#FF7F00\",\"line_width\":2,\"x\":{\"field\":\"Date\"},\"y\":{\"field\":\"instagram_Counts\"}},\"id\":\"551274\",\"type\":\"Line\"},{\"attributes\":{\"coordinates\":null,\"data_source\":{\"id\":\"42775\"},\"glyph\":{\"id\":\"551222\"},\"group\":null,\"hover_glyph\":null,\"muted_glyph\":{\"id\":\"551224\"},\"nonselection_glyph\":{\"id\":\"551223\"},\"view\":{\"id\":\"551226\"}},\"id\":\"551225\",\"type\":\"GlyphRenderer\"},{\"attributes\":{},\"id\":\"558130\",\"type\":\"BasicTickFormatter\"},{\"attributes\":{},\"id\":\"551185\",\"type\":\"DataRange1d\"},{\"attributes\":{\"coordinates\":null,\"group\":null,\"render_mode\":\"css\",\"source\":{\"id\":\"42775\"},\"text\":{\"field\":\"youtube_Texts\"},\"x\":{\"field\":\"Date\"},\"y\":{\"field\":\"youtube_Counts\"},\"y_offset\":{\"value\":10}},\"id\":\"551335\",\"type\":\"LabelSet\"},{\"attributes\":{\"days\":[1,8,15,22]},\"id\":\"558186\",\"type\":\"DaysTicker\"},{\"attributes\":{},\"id\":\"558121\",\"type\":\"DatetimeTickFormatter\"},{\"attributes\":{},\"id\":\"551306\",\"type\":\"SaveTool\"},{\"attributes\":{\"base\":24,\"mantissas\":[1,2,4,6,8,12],\"max_interval\":43200000.0,\"min_interval\":3600000.0,\"num_minor_ticks\":0},\"id\":\"558170\",\"type\":\"AdaptiveTicker\"},{\"attributes\":{\"coordinates\":null,\"data_source\":{\"id\":\"42775\"},\"glyph\":{\"id\":\"551330\"},\"group\":null,\"hover_glyph\":null,\"muted_glyph\":{\"id\":\"551332\"},\"nonselection_glyph\":{\"id\":\"551331\"},\"view\":{\"id\":\"551334\"}},\"id\":\"551333\",\"type\":\"GlyphRenderer\"},{\"attributes\":{},\"id\":\"558118\",\"type\":\"BasicTickFormatter\"},{\"attributes\":{},\"id\":\"558134\",\"type\":\"AllLabels\"},{\"attributes\":{\"days\":[1,4,7,10,13,16,19,22,25,28]},\"id\":\"558185\",\"type\":\"DaysTicker\"},{\"attributes\":{},\"id\":\"558133\",\"type\":\"DatetimeTickFormatter\"},{\"attributes\":{\"days\":[1,15]},\"id\":\"558174\",\"type\":\"DaysTicker\"},{\"attributes\":{},\"id\":\"558192\",\"type\":\"YearsTicker\"},{\"attributes\":{},\"id\":\"551187\",\"type\":\"DataRange1d\"},{\"attributes\":{\"line_alpha\":0.4,\"line_color\":\"#c4302b\",\"line_width\":2,\"x\":{\"field\":\"Date\"},\"y\":{\"field\":\"youtube_Counts\"}},\"id\":\"551324\",\"type\":\"Line\"},{\"attributes\":{\"months\":[0,4,8]},\"id\":\"558190\",\"type\":\"MonthsTicker\"},{\"attributes\":{\"fill_alpha\":{\"value\":0.2},\"fill_color\":{\"value\":\"white\"},\"hatch_alpha\":{\"value\":0.2},\"line_alpha\":{\"value\":0.2},\"line_color\":{\"value\":\"#1f77b4\"},\"size\":{\"value\":8},\"x\":{\"field\":\"Date\"},\"y\":{\"field\":\"instagram_Counts\"}},\"id\":\"551281\",\"type\":\"Circle\"},{\"attributes\":{\"fill_color\":{\"value\":\"white\"},\"line_color\":{\"value\":\"#1f77b4\"},\"size\":{\"value\":8},\"x\":{\"field\":\"Date\"},\"y\":{\"field\":\"youtube_Counts\"}},\"id\":\"551330\",\"type\":\"Circle\"},{\"attributes\":{},\"id\":\"558124\",\"type\":\"BasicTickFormatter\"},{\"attributes\":{\"days\":[1,4,7,10,13,16,19,22,25,28]},\"id\":\"558172\",\"type\":\"DaysTicker\"},{\"attributes\":{\"below\":[{\"id\":\"551244\"}],\"center\":[{\"id\":\"551247\"},{\"id\":\"551251\"},{\"id\":\"551284\"}],\"height\":300,\"left\":[{\"id\":\"551248\"}],\"renderers\":[{\"id\":\"551276\"},{\"id\":\"551282\"}],\"title\":{\"id\":\"551266\"},\"toolbar\":{\"id\":\"551259\"},\"width\":500,\"x_range\":{\"id\":\"551185\"},\"x_scale\":{\"id\":\"551240\"},\"y_range\":{\"id\":\"551238\"},\"y_scale\":{\"id\":\"551242\"}},\"id\":\"551235\",\"subtype\":\"Figure\",\"type\":\"Plot\"},{\"attributes\":{\"base\":60,\"mantissas\":[1,2,5,10,15,20,30],\"max_interval\":1800000.0,\"min_interval\":1000.0,\"num_minor_ticks\":0},\"id\":\"558169\",\"type\":\"AdaptiveTicker\"},{\"attributes\":{\"months\":[0,1,2,3,4,5,6,7,8,9,10,11]},\"id\":\"558188\",\"type\":\"MonthsTicker\"},{\"attributes\":{},\"id\":\"551308\",\"type\":\"HelpTool\"},{\"attributes\":{\"days\":[1,15]},\"id\":\"558187\",\"type\":\"DaysTicker\"},{\"attributes\":{\"source\":{\"id\":\"42775\"}},\"id\":\"551328\",\"type\":\"CDSView\"},{\"attributes\":{},\"id\":\"558122\",\"type\":\"AllLabels\"},{\"attributes\":{\"days\":[1,2,3,4,5,6,7,8,9,10,11,12,13,14,15,16,17,18,19,20,21,22,23,24,25,26,27,28,29,30,31]},\"id\":\"558171\",\"type\":\"DaysTicker\"},{\"attributes\":{\"source\":{\"id\":\"42775\"}},\"id\":\"551277\",\"type\":\"CDSView\"}],\"root_ids\":[\"551392\"]},\"title\":\"Bokeh Application\",\"version\":\"2.4.2\"}};\n",
       "  const render_items = [{\"docid\":\"fd4185fb-7ad6-4774-8166-c8022ad0be87\",\"root_ids\":[\"551392\"],\"roots\":{\"551392\":\"99c67dbb-e708-4673-9437-4782f5673835\"}}];\n",
       "  root.Bokeh.embed.embed_items_notebook(docs_json, render_items);\n",
       "\n",
       "  }\n",
       "  if (root.Bokeh !== undefined) {\n",
       "    embed_document(root);\n",
       "  } else {\n",
       "    let attempts = 0;\n",
       "    const timer = setInterval(function(root) {\n",
       "      if (root.Bokeh !== undefined) {\n",
       "        clearInterval(timer);\n",
       "        embed_document(root);\n",
       "      } else {\n",
       "        attempts++;\n",
       "        if (attempts > 100) {\n",
       "          clearInterval(timer);\n",
       "          console.log(\"Bokeh: ERROR: Unable to run BokehJS code because BokehJS library is missing\");\n",
       "        }\n",
       "      }\n",
       "    }, 10, root)\n",
       "  }\n",
       "})(window);"
      ],
      "application/vnd.bokehjs_exec.v0+json": ""
     },
     "metadata": {
      "application/vnd.bokehjs_exec.v0+json": {
       "id": "551392"
      }
     },
     "output_type": "display_data"
    }
   ],
   "source": [
    "output_file(\"sns_dashboard.html\")\n",
    "\n",
    "total_width = 1000\n",
    "total_height = 600\n",
    "\n",
    "fig_width = int(total_width // 2)\n",
    "fig_height = int(total_height // 2)\n",
    "\n",
    "p1 = draw_lineplot(source, '페이스북', width=fig_width, height=fig_height, color=\"#3b5998\", by='facebook')\n",
    "p2 = draw_lineplot(source, '인스타그램', width=fig_width, height=fig_height, color=\"#FF7F00\", by='instagram')\n",
    "p3 = draw_lineplot(source, '유튜브', width=fig_width, height=fig_height, color='#c4302b', by='youtube')\n",
    "p4 = draw_lineplot(source, '기사', width=fig_width, height=fig_height, color='#000080', by='article')\n",
    "\n",
    "day_step = 24 * 60 * 60 * 1000\n",
    "date_slider = DateRangeSlider(value=(s_date, real_e_date), start=s_date, end=real_e_date, step=day_step,\n",
    "                              title=\"조회 기간\",\n",
    "                             format=\"%Y/%m/%d\")\n",
    "\n",
    "p2.x_range = p1.x_range\n",
    "p3.x_range = p1.x_range\n",
    "p4.x_range = p1.x_range\n",
    "\n",
    "# date_range = DataRange1d\n",
    "d_range = DataRange1d(start=s_date, end=real_e_date)\n",
    "\n",
    "figures = [p1, p2, p3, p4]\n",
    "date_slider.js_on_change('value', callback)\n",
    "show(column(date_slider, row(p1, p2), row(p3, p4)))"
   ]
  },
  {
   "cell_type": "code",
   "execution_count": 206,
   "metadata": {},
   "outputs": [],
   "source": [
    "temp_df = pd.read_csv('../sns-data/2021-11-24/youtube/Chart data view.csv', parse_dates=['Date', 'Video publish time'])\n",
    "temp_df = temp_df.dropna()"
   ]
  },
  {
   "cell_type": "code",
   "execution_count": 266,
   "metadata": {},
   "outputs": [],
   "source": [
    "view_df = temp_df.groupby(\"Date\").sum().reset_index()\n",
    "view_df['Texts'] = view_df.Views.astype(str)\n",
    "\n",
    "title_df = temp_df.groupby([\"Video title\", \"Video\"]).sum().sort_values(\"Views\", ascending=False).reset_index()\n",
    "title_df['Texts'] = title_df.Views.astype(str)"
   ]
  },
  {
   "cell_type": "code",
   "execution_count": 267,
   "metadata": {},
   "outputs": [],
   "source": [
    "title_df['y'] = title_df['Video title'].apply(lambda x: x[:17] + '...' if len(x) > 20 else x)"
   ]
  },
  {
   "cell_type": "code",
   "execution_count": 285,
   "metadata": {},
   "outputs": [],
   "source": [
    "view_source = ColumnDataSource(view_df)\n",
    "title_source = ColumnDataSource(title_df)"
   ]
  },
  {
   "cell_type": "code",
   "execution_count": 284,
   "metadata": {},
   "outputs": [],
   "source": [
    "from bokeh.models import TapTool, OpenURL\n",
    "    \n",
    "def draw_popular_videos(title_source):\n",
    "    youtube_url = 'https://www.youtube.com/watch?v=@Video'\n",
    "\n",
    "    TOOLTIPS = [\n",
    "        (\"index\", \"$index\"),\n",
    "        (\"title\", \"@{Video title}\"),\n",
    "        (\"youtube\", \"Click Me!!\")\n",
    "    ]\n",
    "\n",
    "    p = figure(width=800, height=400, title=\"인기 동영상\", y_range=title_source.data['y'], tooltips=TOOLTIPS)\n",
    "\n",
    "    p.add_tools(TapTool())\n",
    "    p.hbar(y='y', right='Views', color='firebrick', height=0.5, left=0, source=title_source)\n",
    "\n",
    "    taptool = p.select(type=TapTool)\n",
    "    taptool.callback = OpenURL(url=youtube_url)\n",
    "\n",
    "    return p\n",
    "\n",
    "def draw_youtube_hits(view_source):\n",
    "    p = figure(width=400, height=400, title=\"유튜브 조회수 추이\", x_axis_type=\"datetime\")\n",
    "    p.vbar(x='Date', top='Views', bottom=0, color='firebrick', line_width=20, source=view_source)\n",
    "\n",
    "    labels = LabelSet(x='Date', y='Views', text='Texts',\n",
    "                      x_offset=-17, y_offset=5, render_mode='css', source=view_source,\n",
    "                     text_font_size=\"10pt\")\n",
    "\n",
    "    p.add_layout(labels)\n",
    "    return p"
   ]
  },
  {
   "cell_type": "code",
   "execution_count": 307,
   "metadata": {},
   "outputs": [
    {
     "data": {
      "text/html": [
       "\n",
       "\n",
       "\n",
       "\n",
       "\n",
       "\n",
       "  <div class=\"bk-root\" id=\"b63ba890-2d0d-403d-8546-50b50073ee14\" data-root-id=\"527114\"></div>\n"
      ]
     },
     "metadata": {},
     "output_type": "display_data"
    },
    {
     "data": {
      "application/javascript": [
       "(function(root) {\n",
       "  function embed_document(root) {\n",
       "    \n",
       "  const docs_json = {\"ec199cd2-745f-41e2-a656-e030e79a0c5f\":{\"defs\":[],\"roots\":{\"references\":[{\"attributes\":{\"children\":[{\"id\":\"527020\"},{\"id\":\"527061\"}]},\"id\":\"527114\",\"type\":\"Row\"},{\"attributes\":{\"coordinates\":null,\"group\":null,\"render_mode\":\"css\",\"source\":{\"id\":\"520259\"},\"text\":{\"field\":\"Texts\"},\"text_font_size\":{\"value\":\"10pt\"},\"x\":{\"field\":\"Date\"},\"x_offset\":{\"value\":-17},\"y\":{\"field\":\"Views\"},\"y_offset\":{\"value\":5}},\"id\":\"527059\",\"type\":\"LabelSet\"},{\"attributes\":{},\"id\":\"527105\",\"type\":\"CategoricalTickFormatter\"},{\"attributes\":{\"days\":[1,2,3,4,5,6,7,8,9,10,11,12,13,14,15,16,17,18,19,20,21,22,23,24,25,26,27,28,29,30,31]},\"id\":\"533639\",\"type\":\"DaysTicker\"},{\"attributes\":{\"fill_alpha\":{\"value\":0.2},\"fill_color\":{\"value\":\"firebrick\"},\"hatch_alpha\":{\"value\":0.2},\"hatch_color\":{\"value\":\"firebrick\"},\"line_alpha\":{\"value\":0.2},\"line_color\":{\"value\":\"firebrick\"},\"line_width\":{\"value\":20},\"top\":{\"field\":\"Views\"},\"x\":{\"field\":\"Date\"}},\"id\":\"527056\",\"type\":\"VBar\"},{\"attributes\":{},\"id\":\"527073\",\"type\":\"BasicTicker\"},{\"attributes\":{\"fill_alpha\":{\"value\":0.1},\"fill_color\":{\"value\":\"firebrick\"},\"hatch_alpha\":{\"value\":0.1},\"hatch_color\":{\"value\":\"firebrick\"},\"line_alpha\":{\"value\":0.1},\"line_color\":{\"value\":\"firebrick\"},\"line_width\":{\"value\":20},\"top\":{\"field\":\"Views\"},\"x\":{\"field\":\"Date\"}},\"id\":\"527055\",\"type\":\"VBar\"},{\"attributes\":{\"months\":[0,2,4,6,8,10]},\"id\":\"533644\",\"type\":\"MonthsTicker\"},{\"attributes\":{},\"id\":\"527079\",\"type\":\"PanTool\"},{\"attributes\":{\"factors\":[\"\\ud55c \\uad6d\\uac00\\uc758 \\uc9c0\\ub3c4\\uc790\\uac00 \\uacf5\\uac10 \\ub2a5\\ub825\\uc744...\",\"\\uae40\\ub3d9\\uc5f0\\uc774 \\ubbfc\\uc8fc\\ub2f9\\uc758 \\uc885\\ub85c \\uc9c0\\uc5ed\\uad6c ...\",\"\\ubaa8 \\ud6c4\\ubcf4\\uc758 '\\uc804\\ub450\\ud658 \\ubc1c\\uc5b8' \\uc5d0 ...\",\"\\uc57c\\uc798\\uc54c \\uae40\\ub3d9\\uc5f0 #shorts\",\"\\ubb38\\uc7ac\\uc778 \\uc815\\ubd80\\uc758 \\uc815\\ucc45\\uc5d0 \\ub300\\ud55c \\uacf5\\uacfc...\"]},\"id\":\"527066\",\"type\":\"FactorRange\"},{\"attributes\":{\"fill_color\":{\"value\":\"firebrick\"},\"hatch_color\":{\"value\":\"firebrick\"},\"height\":{\"value\":0.5},\"line_color\":{\"value\":\"firebrick\"},\"right\":{\"field\":\"Views\"},\"y\":{\"field\":\"y\"}},\"id\":\"527098\",\"type\":\"HBar\"},{\"attributes\":{\"coordinates\":null,\"formatter\":{\"id\":\"527105\"},\"group\":null,\"major_label_policy\":{\"id\":\"527106\"},\"ticker\":{\"id\":\"527077\"}},\"id\":\"527076\",\"type\":\"CategoricalAxis\"},{\"attributes\":{},\"id\":\"533647\",\"type\":\"YearsTicker\"},{\"attributes\":{\"bottom_units\":\"screen\",\"coordinates\":null,\"fill_alpha\":0.5,\"fill_color\":\"lightgrey\",\"group\":null,\"left_units\":\"screen\",\"level\":\"overlay\",\"line_alpha\":1.0,\"line_color\":\"black\",\"line_dash\":[4,4],\"line_width\":2,\"right_units\":\"screen\",\"syncable\":false,\"top_units\":\"screen\"},\"id\":\"527085\",\"type\":\"BoxAnnotation\"},{\"attributes\":{},\"id\":\"527077\",\"type\":\"CategoricalTicker\"},{\"attributes\":{\"months\":[0,6]},\"id\":\"533646\",\"type\":\"MonthsTicker\"},{\"attributes\":{},\"id\":\"527070\",\"type\":\"CategoricalScale\"},{\"attributes\":{\"months\":[0,1,2,3,4,5,6,7,8,9,10,11]},\"id\":\"533643\",\"type\":\"MonthsTicker\"},{\"attributes\":{},\"id\":\"527083\",\"type\":\"ResetTool\"},{\"attributes\":{\"axis\":{\"id\":\"527072\"},\"coordinates\":null,\"group\":null,\"ticker\":null},\"id\":\"527075\",\"type\":\"Grid\"},{\"attributes\":{\"days\":[1,15]},\"id\":\"533642\",\"type\":\"DaysTicker\"},{\"attributes\":{\"base\":24,\"mantissas\":[1,2,4,6,8,12],\"max_interval\":43200000.0,\"min_interval\":3600000.0,\"num_minor_ticks\":0},\"id\":\"533638\",\"type\":\"AdaptiveTicker\"},{\"attributes\":{\"bottom_units\":\"screen\",\"coordinates\":null,\"fill_alpha\":0.5,\"fill_color\":\"lightgrey\",\"group\":null,\"left_units\":\"screen\",\"level\":\"overlay\",\"line_alpha\":1.0,\"line_color\":\"black\",\"line_dash\":[4,4],\"line_width\":2,\"right_units\":\"screen\",\"syncable\":false,\"top_units\":\"screen\"},\"id\":\"527045\",\"type\":\"BoxAnnotation\"},{\"attributes\":{\"days\":[1,8,15,22]},\"id\":\"533641\",\"type\":\"DaysTicker\"},{\"attributes\":{\"axis\":{\"id\":\"527076\"},\"coordinates\":null,\"dimension\":1,\"group\":null,\"ticker\":null},\"id\":\"527078\",\"type\":\"Grid\"},{\"attributes\":{\"coordinates\":null,\"group\":null,\"text\":\"\\uc778\\uae30 \\ub3d9\\uc601\\uc0c1\"},\"id\":\"527062\",\"type\":\"Title\"},{\"attributes\":{\"days\":[1,4,7,10,13,16,19,22,25,28]},\"id\":\"533640\",\"type\":\"DaysTicker\"},{\"attributes\":{},\"id\":\"527068\",\"type\":\"LinearScale\"},{\"attributes\":{},\"id\":\"527108\",\"type\":\"BasicTickFormatter\"},{\"attributes\":{},\"id\":\"527084\",\"type\":\"HelpTool\"},{\"attributes\":{},\"id\":\"527106\",\"type\":\"AllLabels\"},{\"attributes\":{\"tools\":[{\"id\":\"527079\"},{\"id\":\"527080\"},{\"id\":\"527081\"},{\"id\":\"527082\"},{\"id\":\"527083\"},{\"id\":\"527084\"},{\"id\":\"527086\"},{\"id\":\"527095\"}]},\"id\":\"527087\",\"type\":\"Toolbar\"},{\"attributes\":{},\"id\":\"527082\",\"type\":\"SaveTool\"},{\"attributes\":{},\"id\":\"527064\",\"type\":\"DataRange1d\"},{\"attributes\":{},\"id\":\"527080\",\"type\":\"WheelZoomTool\"},{\"attributes\":{\"months\":[0,4,8]},\"id\":\"533645\",\"type\":\"MonthsTicker\"},{\"attributes\":{\"overlay\":{\"id\":\"527085\"}},\"id\":\"527081\",\"type\":\"BoxZoomTool\"},{\"attributes\":{\"coordinates\":null,\"formatter\":{\"id\":\"527108\"},\"group\":null,\"major_label_policy\":{\"id\":\"527109\"},\"ticker\":{\"id\":\"527073\"}},\"id\":\"527072\",\"type\":\"LinearAxis\"},{\"attributes\":{},\"id\":\"527109\",\"type\":\"AllLabels\"},{\"attributes\":{\"num_minor_ticks\":5,\"tickers\":[{\"id\":\"533636\"},{\"id\":\"533637\"},{\"id\":\"533638\"},{\"id\":\"533639\"},{\"id\":\"533640\"},{\"id\":\"533641\"},{\"id\":\"533642\"},{\"id\":\"533643\"},{\"id\":\"533644\"},{\"id\":\"533645\"},{\"id\":\"533646\"},{\"id\":\"533647\"}]},\"id\":\"527032\",\"type\":\"DatetimeTicker\"},{\"attributes\":{},\"id\":\"527044\",\"type\":\"HelpTool\"},{\"attributes\":{\"data\":{\"Texts\":[\"92522\",\"91525\",\"35863\",\"29707\",\"8363\"],\"Video\":[\"4bsHlVdU2MU\",\"grzpPq1HQCI\",\"W4u6C5a7gPU\",\"uaxeDvnxURE\",\"3f8xa0TOgQM\"],\"Video title\":[\"\\ud55c \\uad6d\\uac00\\uc758 \\uc9c0\\ub3c4\\uc790\\uac00 \\uacf5\\uac10 \\ub2a5\\ub825\\uc744 \\uac16\\uc9c0 \\ubabb\\ud55c\\ub2e4\\uba74.. (feat. \\uac1c\\uc0ac\\uacfc)\",\"\\uae40\\ub3d9\\uc5f0\\uc774 \\ubbfc\\uc8fc\\ub2f9\\uc758 \\uc885\\ub85c \\uc9c0\\uc5ed\\uad6c \\ud6c4\\ubcf4\\ub85c \\ub098\\uc62c \\uc218\\ub3c4 \\uc788\\ub2e4? #shorts\",\"\\ubaa8 \\ud6c4\\ubcf4\\uc758 '\\uc804\\ub450\\ud658 \\ubc1c\\uc5b8' \\uc5d0 \\ub300\\ud55c \\uae40\\ub3d9\\uc5f0\\uc758 \\uc0dd\\uac01\",\"\\uc57c\\uc798\\uc54c \\uae40\\ub3d9\\uc5f0 #shorts\",\"\\ubb38\\uc7ac\\uc778 \\uc815\\ubd80\\uc758 \\uc815\\ucc45\\uc5d0 \\ub300\\ud55c \\uacf5\\uacfc \\uacfc? \\uc800\\ub294 \\uc18c\\uc2e0\\uaecf \\ubaa9\\uc18c\\ub9ac\\ub97c \\ub0c8\\uc2b5\\ub2c8\\ub2e4 #shorts\"],\"Views\":[92522,91525,35863,29707,8363],\"index\":[0,1,2,3,4],\"y\":[\"\\ud55c \\uad6d\\uac00\\uc758 \\uc9c0\\ub3c4\\uc790\\uac00 \\uacf5\\uac10 \\ub2a5\\ub825\\uc744...\",\"\\uae40\\ub3d9\\uc5f0\\uc774 \\ubbfc\\uc8fc\\ub2f9\\uc758 \\uc885\\ub85c \\uc9c0\\uc5ed\\uad6c ...\",\"\\ubaa8 \\ud6c4\\ubcf4\\uc758 '\\uc804\\ub450\\ud658 \\ubc1c\\uc5b8' \\uc5d0 ...\",\"\\uc57c\\uc798\\uc54c \\uae40\\ub3d9\\uc5f0 #shorts\",\"\\ubb38\\uc7ac\\uc778 \\uc815\\ubd80\\uc758 \\uc815\\ucc45\\uc5d0 \\ub300\\ud55c \\uacf5\\uacfc...\"]},\"selected\":{\"id\":\"520352\"},\"selection_policy\":{\"id\":\"520351\"}},\"id\":\"520260\",\"type\":\"ColumnDataSource\"},{\"attributes\":{},\"id\":\"520351\",\"type\":\"UnionRenderers\"},{\"attributes\":{\"fill_color\":{\"value\":\"firebrick\"},\"hatch_color\":{\"value\":\"firebrick\"},\"line_color\":{\"value\":\"firebrick\"},\"line_width\":{\"value\":20},\"top\":{\"field\":\"Views\"},\"x\":{\"field\":\"Date\"}},\"id\":\"527054\",\"type\":\"VBar\"},{\"attributes\":{\"overlay\":{\"id\":\"527045\"}},\"id\":\"527041\",\"type\":\"BoxZoomTool\"},{\"attributes\":{\"callback\":{\"id\":\"527113\"}},\"id\":\"527095\",\"type\":\"TapTool\"},{\"attributes\":{},\"id\":\"527027\",\"type\":\"LinearScale\"},{\"attributes\":{\"fill_alpha\":{\"value\":0.2},\"fill_color\":{\"value\":\"firebrick\"},\"hatch_alpha\":{\"value\":0.2},\"hatch_color\":{\"value\":\"firebrick\"},\"height\":{\"value\":0.5},\"line_alpha\":{\"value\":0.2},\"line_color\":{\"value\":\"firebrick\"},\"right\":{\"field\":\"Views\"},\"y\":{\"field\":\"y\"}},\"id\":\"527100\",\"type\":\"HBar\"},{\"attributes\":{},\"id\":\"527042\",\"type\":\"SaveTool\"},{\"attributes\":{},\"id\":\"527029\",\"type\":\"LinearScale\"},{\"attributes\":{},\"id\":\"533622\",\"type\":\"BasicTickFormatter\"},{\"attributes\":{\"coordinates\":null,\"group\":null,\"text\":\"\\uc720\\ud29c\\ube0c \\uc870\\ud68c\\uc218 \\ucd94\\uc774\"},\"id\":\"527021\",\"type\":\"Title\"},{\"attributes\":{\"data\":{\"Date\":{\"__ndarray__\":\"AABAsWDSd0IAAAAXs9J3QgAAwHwF03dCAACA4lfTd0IAAEBIqtN3QgAAAK7803dCAADAE0/Ud0I=\",\"dtype\":\"float64\",\"order\":\"little\",\"shape\":[7]},\"Texts\":[\"25321\",\"24138\",\"23402\",\"34919\",\"59737\",\"49321\",\"41142\"],\"Views\":[25321,24138,23402,34919,59737,49321,41142],\"index\":[0,1,2,3,4,5,6]},\"selected\":{\"id\":\"526843\"},\"selection_policy\":{\"id\":\"526842\"}},\"id\":\"520259\",\"type\":\"ColumnDataSource\"},{\"attributes\":{},\"id\":\"526843\",\"type\":\"Selection\"},{\"attributes\":{},\"id\":\"527036\",\"type\":\"BasicTicker\"},{\"attributes\":{\"callback\":null,\"tooltips\":[[\"index\",\"$index\"],[\"title\",\"@{Video title}\"],[\"youtube\",\"Click Me!!\"]]},\"id\":\"527086\",\"type\":\"HoverTool\"},{\"attributes\":{},\"id\":\"533623\",\"type\":\"AllLabels\"},{\"attributes\":{},\"id\":\"527039\",\"type\":\"PanTool\"},{\"attributes\":{},\"id\":\"533625\",\"type\":\"DatetimeTickFormatter\"},{\"attributes\":{},\"id\":\"526842\",\"type\":\"UnionRenderers\"},{\"attributes\":{\"mantissas\":[1,2,5],\"max_interval\":500.0,\"num_minor_ticks\":0},\"id\":\"533636\",\"type\":\"AdaptiveTicker\"},{\"attributes\":{\"coordinates\":null,\"formatter\":{\"id\":\"533625\"},\"group\":null,\"major_label_policy\":{\"id\":\"533626\"},\"ticker\":{\"id\":\"527032\"}},\"id\":\"527031\",\"type\":\"DatetimeAxis\"},{\"attributes\":{\"coordinates\":null,\"data_source\":{\"id\":\"520259\"},\"glyph\":{\"id\":\"527054\"},\"group\":null,\"hover_glyph\":null,\"muted_glyph\":{\"id\":\"527056\"},\"nonselection_glyph\":{\"id\":\"527055\"},\"view\":{\"id\":\"527058\"}},\"id\":\"527057\",\"type\":\"GlyphRenderer\"},{\"attributes\":{\"below\":[{\"id\":\"527031\"}],\"center\":[{\"id\":\"527034\"},{\"id\":\"527038\"},{\"id\":\"527059\"}],\"height\":400,\"left\":[{\"id\":\"527035\"}],\"renderers\":[{\"id\":\"527057\"}],\"title\":{\"id\":\"527021\"},\"toolbar\":{\"id\":\"527046\"},\"width\":400,\"x_range\":{\"id\":\"527023\"},\"x_scale\":{\"id\":\"527027\"},\"y_range\":{\"id\":\"527025\"},\"y_scale\":{\"id\":\"527029\"}},\"id\":\"527020\",\"subtype\":\"Figure\",\"type\":\"Plot\"},{\"attributes\":{\"coordinates\":null,\"formatter\":{\"id\":\"533622\"},\"group\":null,\"major_label_policy\":{\"id\":\"533623\"},\"ticker\":{\"id\":\"527036\"}},\"id\":\"527035\",\"type\":\"LinearAxis\"},{\"attributes\":{},\"id\":\"527023\",\"type\":\"DataRange1d\"},{\"attributes\":{},\"id\":\"527043\",\"type\":\"ResetTool\"},{\"attributes\":{},\"id\":\"533626\",\"type\":\"AllLabels\"},{\"attributes\":{\"fill_alpha\":{\"value\":0.1},\"fill_color\":{\"value\":\"firebrick\"},\"hatch_alpha\":{\"value\":0.1},\"hatch_color\":{\"value\":\"firebrick\"},\"height\":{\"value\":0.5},\"line_alpha\":{\"value\":0.1},\"line_color\":{\"value\":\"firebrick\"},\"right\":{\"field\":\"Views\"},\"y\":{\"field\":\"y\"}},\"id\":\"527099\",\"type\":\"HBar\"},{\"attributes\":{},\"id\":\"527040\",\"type\":\"WheelZoomTool\"},{\"attributes\":{\"below\":[{\"id\":\"527072\"}],\"center\":[{\"id\":\"527075\"},{\"id\":\"527078\"}],\"height\":400,\"left\":[{\"id\":\"527076\"}],\"renderers\":[{\"id\":\"527101\"}],\"title\":{\"id\":\"527062\"},\"toolbar\":{\"id\":\"527087\"},\"width\":800,\"x_range\":{\"id\":\"527064\"},\"x_scale\":{\"id\":\"527068\"},\"y_range\":{\"id\":\"527066\"},\"y_scale\":{\"id\":\"527070\"}},\"id\":\"527061\",\"subtype\":\"Figure\",\"type\":\"Plot\"},{\"attributes\":{},\"id\":\"527025\",\"type\":\"DataRange1d\"},{\"attributes\":{},\"id\":\"520352\",\"type\":\"Selection\"},{\"attributes\":{\"base\":60,\"mantissas\":[1,2,5,10,15,20,30],\"max_interval\":1800000.0,\"min_interval\":1000.0,\"num_minor_ticks\":0},\"id\":\"533637\",\"type\":\"AdaptiveTicker\"},{\"attributes\":{\"url\":\"https://www.youtube.com/watch?v=@Video\"},\"id\":\"527113\",\"type\":\"OpenURL\"},{\"attributes\":{\"axis\":{\"id\":\"527035\"},\"coordinates\":null,\"dimension\":1,\"group\":null,\"ticker\":null},\"id\":\"527038\",\"type\":\"Grid\"},{\"attributes\":{\"source\":{\"id\":\"520260\"}},\"id\":\"527102\",\"type\":\"CDSView\"},{\"attributes\":{\"tools\":[{\"id\":\"527039\"},{\"id\":\"527040\"},{\"id\":\"527041\"},{\"id\":\"527042\"},{\"id\":\"527043\"},{\"id\":\"527044\"}]},\"id\":\"527046\",\"type\":\"Toolbar\"},{\"attributes\":{\"coordinates\":null,\"data_source\":{\"id\":\"520260\"},\"glyph\":{\"id\":\"527098\"},\"group\":null,\"hover_glyph\":null,\"muted_glyph\":{\"id\":\"527100\"},\"nonselection_glyph\":{\"id\":\"527099\"},\"view\":{\"id\":\"527102\"}},\"id\":\"527101\",\"type\":\"GlyphRenderer\"},{\"attributes\":{\"source\":{\"id\":\"520259\"}},\"id\":\"527058\",\"type\":\"CDSView\"},{\"attributes\":{\"axis\":{\"id\":\"527031\"},\"coordinates\":null,\"group\":null,\"ticker\":null},\"id\":\"527034\",\"type\":\"Grid\"}],\"root_ids\":[\"527114\"]},\"title\":\"Bokeh Application\",\"version\":\"2.4.2\"}};\n",
       "  const render_items = [{\"docid\":\"ec199cd2-745f-41e2-a656-e030e79a0c5f\",\"root_ids\":[\"527114\"],\"roots\":{\"527114\":\"b63ba890-2d0d-403d-8546-50b50073ee14\"}}];\n",
       "  root.Bokeh.embed.embed_items_notebook(docs_json, render_items);\n",
       "\n",
       "  }\n",
       "  if (root.Bokeh !== undefined) {\n",
       "    embed_document(root);\n",
       "  } else {\n",
       "    let attempts = 0;\n",
       "    const timer = setInterval(function(root) {\n",
       "      if (root.Bokeh !== undefined) {\n",
       "        clearInterval(timer);\n",
       "        embed_document(root);\n",
       "      } else {\n",
       "        attempts++;\n",
       "        if (attempts > 100) {\n",
       "          clearInterval(timer);\n",
       "          console.log(\"Bokeh: ERROR: Unable to run BokehJS code because BokehJS library is missing\");\n",
       "        }\n",
       "      }\n",
       "    }, 10, root)\n",
       "  }\n",
       "})(window);"
      ],
      "application/vnd.bokehjs_exec.v0+json": ""
     },
     "metadata": {
      "application/vnd.bokehjs_exec.v0+json": {
       "id": "527114"
      }
     },
     "output_type": "display_data"
    }
   ],
   "source": [
    "from bokeh.io import output_file\n",
    "\n",
    "output_file(\"youtube_dashboard.html\")\n",
    "\n",
    "p5 = draw_youtube_hits(view_source)\n",
    "p6 = draw_popular_videos(title_source)\n",
    "\n",
    "show(row(p5, p6))"
   ]
  },
  {
   "cell_type": "code",
   "execution_count": 306,
   "metadata": {},
   "outputs": [
    {
     "data": {
      "text/plain": [
       "0              , YS 6주기에 &quot;YS의 기득권 깨기 정신 되새겨야&quot;\n",
       "1                   &quot;진정한 모빌리티는 교통약자·소셜·리더십에서&quot;\n",
       "2                 &quot;종부세·양도세 개편하겠다…실수요자 부담 최소화&quot;\n",
       "3                      &quot;여야 선대위, 기득권의 바통 주고받기&quot;\n",
       "4                        “1가구 1주택자 종부세·양도세 완화”…세제 공약 발표\n",
       "                             ...                       \n",
       "152    김영삼 전 대통령 6주기 추모식 자리한 이재명 - 윤석열 - 심상정 - 안철수 -...\n",
       "153                YS 6주기 추모식 참석한 이재명-윤석열-심상정-안철수- 대선후보\n",
       "154    5자대결…윤석열 47.7% 이재명 33.3% 심상정 4.7% 안철수 3.7%  1.8%\n",
       "155       [머니S포토] YS 6주기 추모식, 추보발언하는 이재명·윤석열·심상정·안철수...\n",
       "156                     [포토] 심상정·안철수·은 양당 체제 종식 공동선언하라!\n",
       "Name: title, Length: 157, dtype: object"
      ]
     },
     "execution_count": 306,
     "metadata": {},
     "output_type": "execute_result"
    }
   ],
   "source": [
    "datas['article_org']['title'].apply(lambda x: x.replace(\"<b>김동연</b>\", \"\"))"
   ]
  },
  {
   "cell_type": "code",
   "execution_count": 301,
   "metadata": {},
   "outputs": [],
   "source": [
    "grs = datas['article_org'].groupby(\"pubDate\")"
   ]
  },
  {
   "cell_type": "code",
   "execution_count": 303,
   "metadata": {},
   "outputs": [],
   "source": [
    "grp_keys = list(grs.groups.keys())"
   ]
  },
  {
   "cell_type": "code",
   "execution_count": 302,
   "metadata": {},
   "outputs": [
    {
     "data": {
      "text/plain": [
       "<pandas.core.groupby.generic.DataFrameGroupBy object at 0x7f584c3cc9d0>"
      ]
     },
     "execution_count": 302,
     "metadata": {},
     "output_type": "execute_result"
    }
   ],
   "source": [
    "for idx, group "
   ]
  },
  {
   "cell_type": "markdown",
   "metadata": {},
   "source": [
    "- 디자인 유무\n",
    "- 인스타그램 Follower 수랑\n",
    "- 대시보드 구성 (페이지 하나로?)\n",
    "- 중복 그래프"
   ]
  },
  {
   "cell_type": "code",
   "execution_count": null,
   "metadata": {},
   "outputs": [],
   "source": []
  },
  {
   "cell_type": "code",
   "execution_count": null,
   "metadata": {},
   "outputs": [],
   "source": []
  },
  {
   "cell_type": "code",
   "execution_count": null,
   "metadata": {},
   "outputs": [],
   "source": []
  },
  {
   "cell_type": "code",
   "execution_count": null,
   "metadata": {},
   "outputs": [],
   "source": []
  },
  {
   "cell_type": "code",
   "execution_count": null,
   "metadata": {},
   "outputs": [],
   "source": []
  },
  {
   "cell_type": "code",
   "execution_count": null,
   "metadata": {},
   "outputs": [],
   "source": []
  },
  {
   "cell_type": "code",
   "execution_count": null,
   "metadata": {},
   "outputs": [],
   "source": []
  },
  {
   "cell_type": "code",
   "execution_count": null,
   "metadata": {},
   "outputs": [],
   "source": []
  },
  {
   "cell_type": "code",
   "execution_count": null,
   "metadata": {},
   "outputs": [],
   "source": []
  },
  {
   "cell_type": "code",
   "execution_count": null,
   "metadata": {},
   "outputs": [],
   "source": []
  }
 ],
 "metadata": {
  "hide_input": false,
  "kernelspec": {
   "display_name": "Python 3",
   "language": "python",
   "name": "python3"
  },
  "language_info": {
   "codemirror_mode": {
    "name": "ipython",
    "version": 3
   },
   "file_extension": ".py",
   "mimetype": "text/x-python",
   "name": "python",
   "nbconvert_exporter": "python",
   "pygments_lexer": "ipython3",
   "version": "3.8.5"
  },
  "toc": {
   "base_numbering": 1,
   "nav_menu": {},
   "number_sections": true,
   "sideBar": true,
   "skip_h1_title": false,
   "title_cell": "Table of Contents",
   "title_sidebar": "Contents",
   "toc_cell": false,
   "toc_position": {},
   "toc_section_display": true,
   "toc_window_display": false
  }
 },
 "nbformat": 4,
 "nbformat_minor": 4
}
